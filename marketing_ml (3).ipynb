{
 "cells": [
  {
   "cell_type": "code",
   "execution_count": 1,
   "metadata": {},
   "outputs": [],
   "source": [
    "# import packages"
   ]
  },
  {
   "cell_type": "code",
   "execution_count": 2,
   "metadata": {},
   "outputs": [],
   "source": [
    "# read data"
   ]
  },
  {
   "cell_type": "markdown",
   "metadata": {},
   "source": [
    "## Data overlook"
   ]
  },
  {
   "cell_type": "code",
   "execution_count": 3,
   "metadata": {},
   "outputs": [],
   "source": [
    "#%matplotlib inline\n",
    "#!pip install imblearn\n",
    "#!pip install -U imbalanced-learn\n",
    "import os\n",
    "import numpy as np\n",
    "import pandas as pd\n",
    "import seaborn as sns\n",
    "import matplotlib.pyplot as plt\n",
    "from scipy import stats\n",
    "from scipy.stats import norm\n",
    "import time\n",
    "from pylab import *\n",
    "#!pip install plotly-express\n",
    "import plotly.express as px\n",
    "#!pip install autots\n",
    "from autots import AutoTS\n",
    "\n",
    "from sklearn.model_selection import cross_val_score\n",
    "from sklearn.model_selection import cross_validate\n",
    "from sklearn.model_selection import ShuffleSplit\n",
    "from sklearn.model_selection import train_test_split\n",
    "from sklearn.model_selection import train_test_split\n",
    "from sklearn.preprocessing import StandardScaler\n",
    "from sklearn.decomposition import PCA\n",
    "# Models\n",
    "from sklearn.linear_model import LogisticRegression\n",
    "from sklearn.neighbors import KNeighborsClassifier\n",
    "from sklearn.linear_model import Ridge\n",
    "from sklearn.linear_model import Lasso\n",
    "from sklearn.tree import DecisionTreeClassifier\n",
    "from sklearn.ensemble import RandomForestClassifier\n",
    "from sklearn.linear_model import LassoCV\n",
    "from sklearn.svm import LinearSVC\n",
    "from sklearn.svm import SVC\n",
    "from sklearn.linear_model import RidgeClassifier\n",
    "from sklearn.kernel_ridge import KernelRidge\n",
    "\n",
    "from sklearn.preprocessing import LabelEncoder\n",
    "from sklearn.model_selection import GridSearchCV\n",
    "\n",
    "from sklearn.pipeline import Pipeline\n",
    "from sklearn.pipeline import make_pipeline\n",
    "from sklearn.preprocessing import MinMaxScaler\n",
    "from sklearn.metrics import confusion_matrix\n",
    "#from IPython.core.interactiveshell import InteractiveShell\n",
    "#InteractiveShell.ast_node_interactivity='all'"
   ]
  },
  {
   "cell_type": "code",
   "execution_count": 4,
   "metadata": {},
   "outputs": [],
   "source": [
    "from imblearn.over_sampling import SMOTE\n",
    "from imblearn.over_sampling import SMOTEN\n",
    "from imblearn.over_sampling import RandomOverSampler\n",
    "from imblearn.under_sampling import RandomUnderSampler"
   ]
  },
  {
   "cell_type": "code",
   "execution_count": 5,
   "metadata": {},
   "outputs": [],
   "source": [
    "bank = pd.read_csv(\"bank-additional-full.csv\")"
   ]
  },
  {
   "cell_type": "code",
   "execution_count": 6,
   "metadata": {},
   "outputs": [
    {
     "name": "stdout",
     "output_type": "stream",
     "text": [
      "<class 'pandas.core.frame.DataFrame'>\n",
      "RangeIndex: 41188 entries, 0 to 41187\n",
      "Data columns (total 21 columns):\n",
      " #   Column          Non-Null Count  Dtype  \n",
      "---  ------          --------------  -----  \n",
      " 0   age             41188 non-null  int64  \n",
      " 1   job             41188 non-null  object \n",
      " 2   marital         41188 non-null  object \n",
      " 3   education       41188 non-null  object \n",
      " 4   default         41188 non-null  object \n",
      " 5   housing         41188 non-null  object \n",
      " 6   loan            41188 non-null  object \n",
      " 7   contact         41188 non-null  object \n",
      " 8   month           41188 non-null  object \n",
      " 9   day_of_week     41188 non-null  object \n",
      " 10  duration        41188 non-null  int64  \n",
      " 11  campaign        41188 non-null  int64  \n",
      " 12  pdays           41188 non-null  int64  \n",
      " 13  previous        41188 non-null  int64  \n",
      " 14  poutcome        41188 non-null  object \n",
      " 15  emp.var.rate    41188 non-null  float64\n",
      " 16  cons.price.idx  41188 non-null  float64\n",
      " 17  cons.conf.idx   41188 non-null  float64\n",
      " 18  euribor3m       41188 non-null  float64\n",
      " 19  nr.employed     41188 non-null  float64\n",
      " 20  y               41188 non-null  object \n",
      "dtypes: float64(5), int64(5), object(11)\n",
      "memory usage: 6.6+ MB\n",
      "   age        job  marital    education  default housing loan    contact  \\\n",
      "0   56  housemaid  married     basic.4y       no      no   no  telephone   \n",
      "1   57   services  married  high.school  unknown      no   no  telephone   \n",
      "2   37   services  married  high.school       no     yes   no  telephone   \n",
      "3   40     admin.  married     basic.6y       no      no   no  telephone   \n",
      "4   56   services  married  high.school       no      no  yes  telephone   \n",
      "\n",
      "  month day_of_week  ...  campaign  pdays  previous     poutcome emp.var.rate  \\\n",
      "0   may         mon  ...         1    999         0  nonexistent          1.1   \n",
      "1   may         mon  ...         1    999         0  nonexistent          1.1   \n",
      "2   may         mon  ...         1    999         0  nonexistent          1.1   \n",
      "3   may         mon  ...         1    999         0  nonexistent          1.1   \n",
      "4   may         mon  ...         1    999         0  nonexistent          1.1   \n",
      "\n",
      "   cons.price.idx  cons.conf.idx  euribor3m  nr.employed   y  \n",
      "0          93.994          -36.4      4.857       5191.0  no  \n",
      "1          93.994          -36.4      4.857       5191.0  no  \n",
      "2          93.994          -36.4      4.857       5191.0  no  \n",
      "3          93.994          -36.4      4.857       5191.0  no  \n",
      "4          93.994          -36.4      4.857       5191.0  no  \n",
      "\n",
      "[5 rows x 21 columns]\n",
      "age               0\n",
      "job               0\n",
      "marital           0\n",
      "education         0\n",
      "default           0\n",
      "housing           0\n",
      "loan              0\n",
      "contact           0\n",
      "month             0\n",
      "day_of_week       0\n",
      "duration          0\n",
      "campaign          0\n",
      "pdays             0\n",
      "previous          0\n",
      "poutcome          0\n",
      "emp.var.rate      0\n",
      "cons.price.idx    0\n",
      "cons.conf.idx     0\n",
      "euribor3m         0\n",
      "nr.employed       0\n",
      "y                 0\n",
      "dtype: int64\n"
     ]
    },
    {
     "data": {
      "text/html": [
       "<div>\n",
       "<style scoped>\n",
       "    .dataframe tbody tr th:only-of-type {\n",
       "        vertical-align: middle;\n",
       "    }\n",
       "\n",
       "    .dataframe tbody tr th {\n",
       "        vertical-align: top;\n",
       "    }\n",
       "\n",
       "    .dataframe thead th {\n",
       "        text-align: right;\n",
       "    }\n",
       "</style>\n",
       "<table border=\"1\" class=\"dataframe\">\n",
       "  <thead>\n",
       "    <tr style=\"text-align: right;\">\n",
       "      <th></th>\n",
       "      <th>age</th>\n",
       "      <th>duration</th>\n",
       "      <th>campaign</th>\n",
       "      <th>pdays</th>\n",
       "      <th>previous</th>\n",
       "      <th>emp.var.rate</th>\n",
       "      <th>cons.price.idx</th>\n",
       "      <th>cons.conf.idx</th>\n",
       "      <th>euribor3m</th>\n",
       "      <th>nr.employed</th>\n",
       "    </tr>\n",
       "  </thead>\n",
       "  <tbody>\n",
       "    <tr>\n",
       "      <th>count</th>\n",
       "      <td>41188.00000</td>\n",
       "      <td>41188.000000</td>\n",
       "      <td>41188.000000</td>\n",
       "      <td>41188.000000</td>\n",
       "      <td>41188.000000</td>\n",
       "      <td>41188.000000</td>\n",
       "      <td>41188.000000</td>\n",
       "      <td>41188.000000</td>\n",
       "      <td>41188.000000</td>\n",
       "      <td>41188.000000</td>\n",
       "    </tr>\n",
       "    <tr>\n",
       "      <th>mean</th>\n",
       "      <td>40.02406</td>\n",
       "      <td>258.285010</td>\n",
       "      <td>2.567593</td>\n",
       "      <td>962.475454</td>\n",
       "      <td>0.172963</td>\n",
       "      <td>0.081886</td>\n",
       "      <td>93.575664</td>\n",
       "      <td>-40.502600</td>\n",
       "      <td>3.621291</td>\n",
       "      <td>5167.035911</td>\n",
       "    </tr>\n",
       "    <tr>\n",
       "      <th>std</th>\n",
       "      <td>10.42125</td>\n",
       "      <td>259.279249</td>\n",
       "      <td>2.770014</td>\n",
       "      <td>186.910907</td>\n",
       "      <td>0.494901</td>\n",
       "      <td>1.570960</td>\n",
       "      <td>0.578840</td>\n",
       "      <td>4.628198</td>\n",
       "      <td>1.734447</td>\n",
       "      <td>72.251528</td>\n",
       "    </tr>\n",
       "    <tr>\n",
       "      <th>min</th>\n",
       "      <td>17.00000</td>\n",
       "      <td>0.000000</td>\n",
       "      <td>1.000000</td>\n",
       "      <td>0.000000</td>\n",
       "      <td>0.000000</td>\n",
       "      <td>-3.400000</td>\n",
       "      <td>92.201000</td>\n",
       "      <td>-50.800000</td>\n",
       "      <td>0.634000</td>\n",
       "      <td>4963.600000</td>\n",
       "    </tr>\n",
       "    <tr>\n",
       "      <th>25%</th>\n",
       "      <td>32.00000</td>\n",
       "      <td>102.000000</td>\n",
       "      <td>1.000000</td>\n",
       "      <td>999.000000</td>\n",
       "      <td>0.000000</td>\n",
       "      <td>-1.800000</td>\n",
       "      <td>93.075000</td>\n",
       "      <td>-42.700000</td>\n",
       "      <td>1.344000</td>\n",
       "      <td>5099.100000</td>\n",
       "    </tr>\n",
       "    <tr>\n",
       "      <th>50%</th>\n",
       "      <td>38.00000</td>\n",
       "      <td>180.000000</td>\n",
       "      <td>2.000000</td>\n",
       "      <td>999.000000</td>\n",
       "      <td>0.000000</td>\n",
       "      <td>1.100000</td>\n",
       "      <td>93.749000</td>\n",
       "      <td>-41.800000</td>\n",
       "      <td>4.857000</td>\n",
       "      <td>5191.000000</td>\n",
       "    </tr>\n",
       "    <tr>\n",
       "      <th>75%</th>\n",
       "      <td>47.00000</td>\n",
       "      <td>319.000000</td>\n",
       "      <td>3.000000</td>\n",
       "      <td>999.000000</td>\n",
       "      <td>0.000000</td>\n",
       "      <td>1.400000</td>\n",
       "      <td>93.994000</td>\n",
       "      <td>-36.400000</td>\n",
       "      <td>4.961000</td>\n",
       "      <td>5228.100000</td>\n",
       "    </tr>\n",
       "    <tr>\n",
       "      <th>max</th>\n",
       "      <td>98.00000</td>\n",
       "      <td>4918.000000</td>\n",
       "      <td>56.000000</td>\n",
       "      <td>999.000000</td>\n",
       "      <td>7.000000</td>\n",
       "      <td>1.400000</td>\n",
       "      <td>94.767000</td>\n",
       "      <td>-26.900000</td>\n",
       "      <td>5.045000</td>\n",
       "      <td>5228.100000</td>\n",
       "    </tr>\n",
       "  </tbody>\n",
       "</table>\n",
       "</div>"
      ],
      "text/plain": [
       "               age      duration      campaign         pdays      previous  \\\n",
       "count  41188.00000  41188.000000  41188.000000  41188.000000  41188.000000   \n",
       "mean      40.02406    258.285010      2.567593    962.475454      0.172963   \n",
       "std       10.42125    259.279249      2.770014    186.910907      0.494901   \n",
       "min       17.00000      0.000000      1.000000      0.000000      0.000000   \n",
       "25%       32.00000    102.000000      1.000000    999.000000      0.000000   \n",
       "50%       38.00000    180.000000      2.000000    999.000000      0.000000   \n",
       "75%       47.00000    319.000000      3.000000    999.000000      0.000000   \n",
       "max       98.00000   4918.000000     56.000000    999.000000      7.000000   \n",
       "\n",
       "       emp.var.rate  cons.price.idx  cons.conf.idx     euribor3m   nr.employed  \n",
       "count  41188.000000    41188.000000   41188.000000  41188.000000  41188.000000  \n",
       "mean       0.081886       93.575664     -40.502600      3.621291   5167.035911  \n",
       "std        1.570960        0.578840       4.628198      1.734447     72.251528  \n",
       "min       -3.400000       92.201000     -50.800000      0.634000   4963.600000  \n",
       "25%       -1.800000       93.075000     -42.700000      1.344000   5099.100000  \n",
       "50%        1.100000       93.749000     -41.800000      4.857000   5191.000000  \n",
       "75%        1.400000       93.994000     -36.400000      4.961000   5228.100000  \n",
       "max        1.400000       94.767000     -26.900000      5.045000   5228.100000  "
      ]
     },
     "execution_count": 6,
     "metadata": {},
     "output_type": "execute_result"
    }
   ],
   "source": [
    "bank.info()\n",
    "print(bank.head())\n",
    "print(bank.isnull().sum())\n",
    "bank.describe()"
   ]
  },
  {
   "cell_type": "code",
   "execution_count": 7,
   "metadata": {},
   "outputs": [],
   "source": [
    "bank['campaign'] = bank['campaign'].astype(int)\n",
    "bank['pdays'] = bank['pdays'].astype(int)\n",
    "bank['duration'] = bank['duration'].astype(int)\n",
    "bank['emp.var.rate'] = bank['emp.var.rate'].astype(int)\n",
    "bank['cons.price.idx'] = bank['cons.price.idx'].astype(int)\n",
    "bank['cons.conf.idx'] = bank['cons.conf.idx'].astype(int)\n",
    "bank['cons.price.idx'] = bank['cons.price.idx'].astype(int)"
   ]
  },
  {
   "cell_type": "code",
   "execution_count": 8,
   "metadata": {},
   "outputs": [],
   "source": [
    "outcome = bank['y']"
   ]
  },
  {
   "cell_type": "code",
   "execution_count": 9,
   "metadata": {},
   "outputs": [
    {
     "name": "stderr",
     "output_type": "stream",
     "text": [
      "C:\\Users\\Angela Chen\\anaconda3\\lib\\site-packages\\seaborn\\_decorators.py:36: FutureWarning: Pass the following variable as a keyword arg: x. From version 0.12, the only valid positional argument will be `data`, and passing other arguments without an explicit keyword will result in an error or misinterpretation.\n",
      "  warnings.warn(\n"
     ]
    },
    {
     "data": {
      "image/png": "[encoded data removed]",
      "text/plain": [
       "<Figure size 432x288 with 1 Axes>"
      ]
     },
     "metadata": {
      "needs_background": "light"
     },
     "output_type": "display_data"
    }
   ],
   "source": [
    "#The dataset is imbalanced\n",
    "g = sns.countplot(bank['y'])\n",
    "g.set_xticklabels(['Yes','No'])\n",
    "plt.show()"
   ]
  },
  {
   "cell_type": "code",
   "execution_count": 10,
   "metadata": {},
   "outputs": [
    {
     "data": {
      "image/png": "[encoded data removed]",
      "text/plain": [
       "<Figure size 1080x576 with 1 Axes>"
      ]
     },
     "metadata": {
      "needs_background": "light"
     },
     "output_type": "display_data"
    },
    {
     "data": {
      "image/png": "[encoded data removed]",
      "text/plain": [
       "<Figure size 1080x576 with 1 Axes>"
      ]
     },
     "metadata": {
      "needs_background": "light"
     },
     "output_type": "display_data"
    },
    {
     "data": {
      "image/png": "[encoded data removed]",
      "text/plain": [
       "<Figure size 1080x576 with 1 Axes>"
      ]
     },
     "metadata": {
      "needs_background": "light"
     },
     "output_type": "display_data"
    },
    {
     "data": {
      "image/png": "[encoded data removed]",
      "text/plain": [
       "<Figure size 1080x576 with 1 Axes>"
      ]
     },
     "metadata": {
      "needs_background": "light"
     },
     "output_type": "display_data"
    },
    {
     "data": {
      "image/png": "[encoded data removed]",
      "text/plain": [
       "<Figure size 1080x576 with 1 Axes>"
      ]
     },
     "metadata": {
      "needs_background": "light"
     },
     "output_type": "display_data"
    },
    {
     "data": {
      "image/png": "[encoded data removed]",
      "text/plain": [
       "<Figure size 1080x576 with 1 Axes>"
      ]
     },
     "metadata": {
      "needs_background": "light"
     },
     "output_type": "display_data"
    },
    {
     "data": {
      "image/png": "[encoded data removed]",
      "text/plain": [
       "<Figure size 1080x576 with 1 Axes>"
      ]
     },
     "metadata": {
      "needs_background": "light"
     },
     "output_type": "display_data"
    },
    {
     "data": {
      "image/png": "[encoded data removed]",
      "text/plain": [
       "<Figure size 1080x576 with 1 Axes>"
      ]
     },
     "metadata": {
      "needs_background": "light"
     },
     "output_type": "display_data"
    },
    {
     "data": {
      "image/png": "[encoded data removed]",
      "text/plain": [
       "<Figure size 1080x576 with 1 Axes>"
      ]
     },
     "metadata": {
      "needs_background": "light"
     },
     "output_type": "display_data"
    }
   ],
   "source": [
    "for k in range (1,10):\n",
    "    no = []\n",
    "    yes = []\n",
    "    for i in bank.iloc[:,k].unique():\n",
    "        newdf = bank.loc[bank.iloc[:,k]==i]    \n",
    "        no.append((newdf['y']=='no').sum())\n",
    "        yes.append((newdf['y']=='yes').sum())\n",
    "\n",
    "    fig, ax = plt.subplots(figsize=(15,8))\n",
    "    one = ax.bar(bank.iloc[:,k].unique(), no, label='No',color = 'khaki')\n",
    "    two = ax.bar(bank.iloc[:,k].unique(), yes, label='Yes',color = 'pink')\n",
    "    ax.set_ylabel('count')\n",
    "    ax.set_title(bank.columns[k])\n",
    "    ax.legend()\n",
    "    plt.show()"
   ]
  },
  {
   "cell_type": "code",
   "execution_count": 11,
   "metadata": {},
   "outputs": [
    {
     "data": {
      "image/png": "[encoded data removed]",
      "text/plain": [
       "<Figure size 1080x576 with 1 Axes>"
      ]
     },
     "metadata": {
      "needs_background": "light"
     },
     "output_type": "display_data"
    }
   ],
   "source": [
    "no = []\n",
    "yes = []\n",
    "for i in bank.iloc[:,14].unique():\n",
    "    newdf = bank.loc[bank.iloc[:,14]==i]    \n",
    "    no.append((newdf['y']=='no').sum())\n",
    "    yes.append((newdf['y']=='yes').sum())\n",
    "\n",
    "fig, ax = plt.subplots(figsize=(15,8))\n",
    "one = ax.bar(bank.iloc[:,14].unique(), no, label='No',color = 'khaki')\n",
    "two = ax.bar(bank.iloc[:,14].unique(), yes, label='Yes',color = 'pink')\n",
    "ax.set_ylabel('count')\n",
    "ax.set_title(bank.columns[14])\n",
    "ax.legend()\n",
    "plt.show()"
   ]
  },
  {
   "cell_type": "code",
   "execution_count": 12,
   "metadata": {},
   "outputs": [
    {
     "data": {
      "image/png": "[encoded data removed]",
      "text/plain": [
       "<Figure size 792x432 with 1 Axes>"
      ]
     },
     "metadata": {
      "needs_background": "light"
     },
     "output_type": "display_data"
    },
    {
     "data": {
      "image/png": "[encoded data removed]",
      "text/plain": [
       "<Figure size 792x432 with 1 Axes>"
      ]
     },
     "metadata": {
      "needs_background": "light"
     },
     "output_type": "display_data"
    },
    {
     "data": {
      "image/png": "[encoded data removed]",
      "text/plain": [
       "<Figure size 792x432 with 1 Axes>"
      ]
     },
     "metadata": {
      "needs_background": "light"
     },
     "output_type": "display_data"
    },
    {
     "data": {
      "image/png": "[encoded data removed]",
      "text/plain": [
       "<Figure size 792x432 with 1 Axes>"
      ]
     },
     "metadata": {
      "needs_background": "light"
     },
     "output_type": "display_data"
    }
   ],
   "source": [
    "for k in range (10,14):\n",
    "    no = []\n",
    "    yes = []\n",
    "    length = (bank.iloc[:,k].max()-bank.iloc[:,k].min())/8\n",
    "    bins = np.arange(bank.iloc[:,k].min(),bank.iloc[:,k].max(),length)\n",
    "    newbins = pd.cut(bank.iloc[:,k],bins)\n",
    "    y = bank.groupby(newbins)['y'].count()\n",
    "    fig, ax = plt.subplots(figsize=(11,6))\n",
    "    y.plot(kind = 'bar')"
   ]
  },
  {
   "cell_type": "code",
   "execution_count": 13,
   "metadata": {
    "scrolled": false
   },
   "outputs": [
    {
     "data": {
      "image/png": "[encoded data removed]",
      "text/plain": [
       "<Figure size 792x432 with 1 Axes>"
      ]
     },
     "metadata": {
      "needs_background": "light"
     },
     "output_type": "display_data"
    },
    {
     "data": {
      "image/png": "[encoded data removed]",
      "text/plain": [
       "<Figure size 792x432 with 1 Axes>"
      ]
     },
     "metadata": {
      "needs_background": "light"
     },
     "output_type": "display_data"
    },
    {
     "data": {
      "image/png": "[encoded data removed]",
      "text/plain": [
       "<Figure size 792x432 with 1 Axes>"
      ]
     },
     "metadata": {
      "needs_background": "light"
     },
     "output_type": "display_data"
    },
    {
     "data": {
      "image/png": "[encoded data removed]",
      "text/plain": [
       "<Figure size 792x432 with 1 Axes>"
      ]
     },
     "metadata": {
      "needs_background": "light"
     },
     "output_type": "display_data"
    },
    {
     "data": {
      "image/png": "[encoded data removed]",
      "text/plain": [
       "<Figure size 792x432 with 1 Axes>"
      ]
     },
     "metadata": {
      "needs_background": "light"
     },
     "output_type": "display_data"
    }
   ],
   "source": [
    "for k in range (15,20):\n",
    "    no = []\n",
    "    yes = []\n",
    "    length = (bank.iloc[:,k].max()-bank.iloc[:,k].min())/8\n",
    "    bins = np.arange(bank.iloc[:,k].min(),bank.iloc[:,k].max(),length)\n",
    "    newbins = pd.cut(bank.iloc[:,k],bins)\n",
    "    y = bank.groupby(newbins)['y'].count()\n",
    "    fig, ax = plt.subplots(figsize=(11,6))\n",
    "    y.plot(kind = 'bar')"
   ]
  },
  {
   "cell_type": "code",
   "execution_count": 14,
   "metadata": {},
   "outputs": [],
   "source": [
    "bank2 = bank.copy()\n",
    "d = {'no': 0, 'yes': 1}\n",
    "bank2['y'] = bank2['y'].map(d).fillna(bank2['y'])"
   ]
  },
  {
   "cell_type": "code",
   "execution_count": 15,
   "metadata": {},
   "outputs": [
    {
     "data": {
      "text/plain": [
       "<AxesSubplot:>"
      ]
     },
     "execution_count": 15,
     "metadata": {},
     "output_type": "execute_result"
    },
    {
     "data": {
      "image/png": "[encoded data removed]",
      "text/plain": [
       "<Figure size 720x720 with 2 Axes>"
      ]
     },
     "metadata": {
      "needs_background": "light"
     },
     "output_type": "display_data"
    }
   ],
   "source": [
    "plt.figure(figsize=(10, 10))\n",
    "sns.heatmap(bank2.corr(),annot=True,cmap='Blues',linewidths=.5)"
   ]
  },
  {
   "cell_type": "code",
   "execution_count": 16,
   "metadata": {},
   "outputs": [
    {
     "data": {
      "text/plain": [
       "Index(['age', 'job', 'marital', 'education', 'default', 'housing', 'loan',\n",
       "       'contact', 'month', 'day_of_week', 'duration', 'campaign', 'pdays',\n",
       "       'previous', 'poutcome', 'emp.var.rate', 'cons.price.idx',\n",
       "       'cons.conf.idx', 'euribor3m', 'nr.employed', 'y'],\n",
       "      dtype='object')"
      ]
     },
     "execution_count": 16,
     "metadata": {},
     "output_type": "execute_result"
    }
   ],
   "source": [
    "bank.columns"
   ]
  },
  {
   "cell_type": "code",
   "execution_count": 17,
   "metadata": {},
   "outputs": [
    {
     "name": "stdout",
     "output_type": "stream",
     "text": [
      "married     24928\n",
      "single      11568\n",
      "divorced     4612\n",
      "unknown        80\n",
      "Name: marital, dtype: int64\n",
      "university.degree      12168\n",
      "high.school             9515\n",
      "basic.9y                6045\n",
      "professional.course     5243\n",
      "basic.4y                4176\n",
      "basic.6y                2292\n",
      "unknown                 1731\n",
      "illiterate                18\n",
      "Name: education, dtype: int64\n",
      "no         32588\n",
      "unknown     8597\n",
      "yes            3\n",
      "Name: default, dtype: int64\n",
      "yes        21576\n",
      "no         18622\n",
      "unknown      990\n",
      "Name: housing, dtype: int64\n",
      "no         33950\n",
      "yes         6248\n",
      "unknown      990\n",
      "Name: loan, dtype: int64\n",
      "cellular     26144\n",
      "telephone    15044\n",
      "Name: contact, dtype: int64\n",
      "nonexistent    35563\n",
      "failure         4252\n",
      "success         1373\n",
      "Name: poutcome, dtype: int64\n"
     ]
    }
   ],
   "source": [
    "box = ['marital','education','default','housing','loan','contact','poutcome']\n",
    "for i in box:\n",
    "    print(bank[i].value_counts())"
   ]
  },
  {
   "cell_type": "code",
   "execution_count": 18,
   "metadata": {},
   "outputs": [],
   "source": [
    "#random forest method of handling Na values\n",
    "# @copyright Zhihui Chen\n",
    "process_df = bank[['marital','age','duration','campaign','pdays','previous','emp.var.rate','cons.price.idx','cons.conf.idx','euribor3m','nr.employed']]\n",
    "known = process_df[process_df.marital!='unknown'].values\n",
    "unknown = process_df[process_df.marital=='unknown'].values\n",
    "X = known[:,1:]\n",
    "y = known[:,0]\n",
    "rfr = RandomForestClassifier(n_estimators=2000,n_jobs = -1)\n",
    "rfr.fit(X,y)\n",
    "predicted = rfr.predict(unknown[:,1::])\n",
    "bank.loc[(bank.marital == 'unknown'),'marital'] = predicted"
   ]
  },
  {
   "cell_type": "code",
   "execution_count": 19,
   "metadata": {},
   "outputs": [],
   "source": [
    "process_df = bank[['default','age','duration','campaign','pdays','previous','emp.var.rate','cons.price.idx','cons.conf.idx','euribor3m','nr.employed']]\n",
    "known = process_df[process_df.default!='unknown'].values\n",
    "unknown = process_df[process_df.default=='unknown'].values\n",
    "X = known[:,1:]\n",
    "y = known[:,0]\n",
    "rfr = RandomForestClassifier(n_estimators=2000,n_jobs = -1)\n",
    "rfr.fit(X,y)\n",
    "predicted = rfr.predict(unknown[:,1::])\n",
    "bank.loc[(bank.default == 'unknown'),'default'] = predicted"
   ]
  },
  {
   "cell_type": "code",
   "execution_count": 20,
   "metadata": {},
   "outputs": [],
   "source": [
    "process_df = bank[['education','age','duration','campaign','pdays','previous','emp.var.rate','cons.price.idx','cons.conf.idx','euribor3m','nr.employed']]\n",
    "known = process_df[process_df.education!='unknown'].values\n",
    "unknown = process_df[process_df.education=='unknown'].values\n",
    "X = known[:,1:]\n",
    "y = known[:,0]\n",
    "rfr = RandomForestClassifier(n_estimators=2000,n_jobs = -1)\n",
    "rfr.fit(X,y)\n",
    "predicted = rfr.predict(unknown[:,1::])\n",
    "bank.loc[(bank.education == 'unknown'),'education'] = predicted"
   ]
  },
  {
   "cell_type": "code",
   "execution_count": 21,
   "metadata": {},
   "outputs": [],
   "source": [
    "process_df = bank[['loan','age','duration','campaign','pdays','previous','emp.var.rate','cons.price.idx','cons.conf.idx','euribor3m','nr.employed']]\n",
    "known = process_df[process_df.loan!='unknown'].values\n",
    "unknown = process_df[process_df.loan=='unknown'].values\n",
    "X = known[:,1:]\n",
    "y = known[:,0]\n",
    "rfr = RandomForestClassifier(n_estimators=2000,n_jobs = -1)\n",
    "rfr.fit(X,y)\n",
    "predicted = rfr.predict(unknown[:,1::])\n",
    "bank.loc[(bank.loan == 'unknown'),'loan'] = predicted"
   ]
  },
  {
   "cell_type": "code",
   "execution_count": 22,
   "metadata": {},
   "outputs": [],
   "source": [
    "process_df = bank[['housing','age','duration','campaign','pdays','previous','emp.var.rate','cons.price.idx','cons.conf.idx','euribor3m','nr.employed']]\n",
    "known = process_df[process_df.housing!='unknown'].values\n",
    "unknown = process_df[process_df.housing=='unknown'].values\n",
    "X = known[:,1:]\n",
    "y = known[:,0]\n",
    "rfr = RandomForestClassifier(n_estimators=2000,n_jobs = -1)\n",
    "rfr.fit(X,y)\n",
    "predicted = rfr.predict(unknown[:,1::])\n",
    "bank.loc[(bank.housing == 'unknown'),'housing'] = predicted"
   ]
  },
  {
   "cell_type": "code",
   "execution_count": 23,
   "metadata": {},
   "outputs": [],
   "source": [
    "process_df = bank[['poutcome','age','duration','campaign','pdays','previous','emp.var.rate','cons.price.idx','cons.conf.idx','euribor3m','nr.employed']]\n",
    "known = process_df[process_df.poutcome!='nonexistent'].values\n",
    "unknown = process_df[process_df.poutcome=='nonexistent'].values\n",
    "X = known[:,1:]\n",
    "y = known[:,0]\n",
    "rfr = RandomForestClassifier(n_estimators=2000,n_jobs = -1)\n",
    "rfr.fit(X,y)\n",
    "predicted = rfr.predict(unknown[:,1::])\n",
    "bank.loc[(bank.poutcome == 'nonexistent'),'poutcome'] = predicted"
   ]
  },
  {
   "cell_type": "code",
   "execution_count": 24,
   "metadata": {},
   "outputs": [
    {
     "name": "stdout",
     "output_type": "stream",
     "text": [
      "married     24977\n",
      "single      11591\n",
      "divorced     4620\n",
      "Name: marital, dtype: int64\n",
      "university.degree      12723\n",
      "high.school             9949\n",
      "basic.9y                6265\n",
      "professional.course     5396\n",
      "basic.4y                4471\n",
      "basic.6y                2366\n",
      "illiterate                18\n",
      "Name: education, dtype: int64\n",
      "no     41185\n",
      "yes        3\n",
      "Name: default, dtype: int64\n",
      "yes    22125\n",
      "no     19063\n",
      "Name: housing, dtype: int64\n",
      "no     34912\n",
      "yes     6276\n",
      "Name: loan, dtype: int64\n",
      "cellular     26144\n",
      "telephone    15044\n",
      "Name: contact, dtype: int64\n",
      "failure    39815\n",
      "success     1373\n",
      "Name: poutcome, dtype: int64\n"
     ]
    }
   ],
   "source": [
    "for i in box:\n",
    "    print(bank[i].value_counts())"
   ]
  },
  {
   "cell_type": "code",
   "execution_count": 25,
   "metadata": {},
   "outputs": [
    {
     "data": {
      "image/png": "[encoded data removed]",
      "text/plain": [
       "<Figure size 1080x576 with 1 Axes>"
      ]
     },
     "metadata": {
      "needs_background": "light"
     },
     "output_type": "display_data"
    },
    {
     "data": {
      "image/png": "[encoded data removed]",
      "text/plain": [
       "<Figure size 1080x576 with 1 Axes>"
      ]
     },
     "metadata": {
      "needs_background": "light"
     },
     "output_type": "display_data"
    },
    {
     "data": {
      "image/png": "[encoded data removed]",
      "text/plain": [
       "<Figure size 1080x576 with 1 Axes>"
      ]
     },
     "metadata": {
      "needs_background": "light"
     },
     "output_type": "display_data"
    },
    {
     "data": {
      "image/png": "[encoded data removed]",
      "text/plain": [
       "<Figure size 1080x576 with 1 Axes>"
      ]
     },
     "metadata": {
      "needs_background": "light"
     },
     "output_type": "display_data"
    },
    {
     "data": {
      "image/png": "[encoded data removed]",
      "text/plain": [
       "<Figure size 1080x576 with 1 Axes>"
      ]
     },
     "metadata": {
      "needs_background": "light"
     },
     "output_type": "display_data"
    },
    {
     "data": {
      "image/png": "[encoded data removed]",
      "text/plain": [
       "<Figure size 1080x576 with 1 Axes>"
      ]
     },
     "metadata": {
      "needs_background": "light"
     },
     "output_type": "display_data"
    },
    {
     "data": {
      "image/png": "[encoded data removed]",
      "text/plain": [
       "<Figure size 1080x576 with 1 Axes>"
      ]
     },
     "metadata": {
      "needs_background": "light"
     },
     "output_type": "display_data"
    },
    {
     "data": {
      "image/png": "[encoded data removed]",
      "text/plain": [
       "<Figure size 1080x576 with 1 Axes>"
      ]
     },
     "metadata": {
      "needs_background": "light"
     },
     "output_type": "display_data"
    },
    {
     "data": {
      "image/png": "[encoded data removed]",
      "text/plain": [
       "<Figure size 1080x576 with 1 Axes>"
      ]
     },
     "metadata": {
      "needs_background": "light"
     },
     "output_type": "display_data"
    }
   ],
   "source": [
    "for k in range (1,10):\n",
    "    no = []\n",
    "    yes = []\n",
    "    for i in bank.iloc[:,k].unique():\n",
    "        newdf = bank.loc[bank.iloc[:,k]==i]    \n",
    "        no.append((newdf['y']=='no').sum())\n",
    "        yes.append((newdf['y']=='yes').sum())\n",
    "\n",
    "    fig, ax = plt.subplots(figsize=(15,8))\n",
    "    one = ax.bar(bank.iloc[:,k].unique(), no, label='No',color = 'khaki')\n",
    "    two = ax.bar(bank.iloc[:,k].unique(), yes, label='Yes',color = 'pink')\n",
    "    ax.set_ylabel('count')\n",
    "    ax.set_title(bank.columns[k])\n",
    "    ax.legend()\n",
    "    plt.show()"
   ]
  },
  {
   "cell_type": "code",
   "execution_count": 26,
   "metadata": {},
   "outputs": [
    {
     "data": {
      "text/html": [
       "<div>\n",
       "<style scoped>\n",
       "    .dataframe tbody tr th:only-of-type {\n",
       "        vertical-align: middle;\n",
       "    }\n",
       "\n",
       "    .dataframe tbody tr th {\n",
       "        vertical-align: top;\n",
       "    }\n",
       "\n",
       "    .dataframe thead th {\n",
       "        text-align: right;\n",
       "    }\n",
       "</style>\n",
       "<table border=\"1\" class=\"dataframe\">\n",
       "  <thead>\n",
       "    <tr style=\"text-align: right;\">\n",
       "      <th></th>\n",
       "      <th>job_blue-collar</th>\n",
       "      <th>job_entrepreneur</th>\n",
       "      <th>job_housemaid</th>\n",
       "      <th>job_management</th>\n",
       "      <th>job_retired</th>\n",
       "      <th>job_self-employed</th>\n",
       "      <th>job_services</th>\n",
       "      <th>job_student</th>\n",
       "      <th>job_technician</th>\n",
       "      <th>job_unemployed</th>\n",
       "      <th>...</th>\n",
       "      <th>month_aug</th>\n",
       "      <th>month_dec</th>\n",
       "      <th>month_jul</th>\n",
       "      <th>month_jun</th>\n",
       "      <th>month_mar</th>\n",
       "      <th>month_may</th>\n",
       "      <th>month_nov</th>\n",
       "      <th>month_oct</th>\n",
       "      <th>month_sep</th>\n",
       "      <th>poutcome_success</th>\n",
       "    </tr>\n",
       "  </thead>\n",
       "  <tbody>\n",
       "    <tr>\n",
       "      <th>0</th>\n",
       "      <td>0</td>\n",
       "      <td>0</td>\n",
       "      <td>1</td>\n",
       "      <td>0</td>\n",
       "      <td>0</td>\n",
       "      <td>0</td>\n",
       "      <td>0</td>\n",
       "      <td>0</td>\n",
       "      <td>0</td>\n",
       "      <td>0</td>\n",
       "      <td>...</td>\n",
       "      <td>0</td>\n",
       "      <td>0</td>\n",
       "      <td>0</td>\n",
       "      <td>0</td>\n",
       "      <td>0</td>\n",
       "      <td>1</td>\n",
       "      <td>0</td>\n",
       "      <td>0</td>\n",
       "      <td>0</td>\n",
       "      <td>0</td>\n",
       "    </tr>\n",
       "    <tr>\n",
       "      <th>1</th>\n",
       "      <td>0</td>\n",
       "      <td>0</td>\n",
       "      <td>0</td>\n",
       "      <td>0</td>\n",
       "      <td>0</td>\n",
       "      <td>0</td>\n",
       "      <td>1</td>\n",
       "      <td>0</td>\n",
       "      <td>0</td>\n",
       "      <td>0</td>\n",
       "      <td>...</td>\n",
       "      <td>0</td>\n",
       "      <td>0</td>\n",
       "      <td>0</td>\n",
       "      <td>0</td>\n",
       "      <td>0</td>\n",
       "      <td>1</td>\n",
       "      <td>0</td>\n",
       "      <td>0</td>\n",
       "      <td>0</td>\n",
       "      <td>0</td>\n",
       "    </tr>\n",
       "    <tr>\n",
       "      <th>2</th>\n",
       "      <td>0</td>\n",
       "      <td>0</td>\n",
       "      <td>0</td>\n",
       "      <td>0</td>\n",
       "      <td>0</td>\n",
       "      <td>0</td>\n",
       "      <td>1</td>\n",
       "      <td>0</td>\n",
       "      <td>0</td>\n",
       "      <td>0</td>\n",
       "      <td>...</td>\n",
       "      <td>0</td>\n",
       "      <td>0</td>\n",
       "      <td>0</td>\n",
       "      <td>0</td>\n",
       "      <td>0</td>\n",
       "      <td>1</td>\n",
       "      <td>0</td>\n",
       "      <td>0</td>\n",
       "      <td>0</td>\n",
       "      <td>0</td>\n",
       "    </tr>\n",
       "    <tr>\n",
       "      <th>3</th>\n",
       "      <td>0</td>\n",
       "      <td>0</td>\n",
       "      <td>0</td>\n",
       "      <td>0</td>\n",
       "      <td>0</td>\n",
       "      <td>0</td>\n",
       "      <td>0</td>\n",
       "      <td>0</td>\n",
       "      <td>0</td>\n",
       "      <td>0</td>\n",
       "      <td>...</td>\n",
       "      <td>0</td>\n",
       "      <td>0</td>\n",
       "      <td>0</td>\n",
       "      <td>0</td>\n",
       "      <td>0</td>\n",
       "      <td>1</td>\n",
       "      <td>0</td>\n",
       "      <td>0</td>\n",
       "      <td>0</td>\n",
       "      <td>0</td>\n",
       "    </tr>\n",
       "    <tr>\n",
       "      <th>4</th>\n",
       "      <td>0</td>\n",
       "      <td>0</td>\n",
       "      <td>0</td>\n",
       "      <td>0</td>\n",
       "      <td>0</td>\n",
       "      <td>0</td>\n",
       "      <td>1</td>\n",
       "      <td>0</td>\n",
       "      <td>0</td>\n",
       "      <td>0</td>\n",
       "      <td>...</td>\n",
       "      <td>0</td>\n",
       "      <td>0</td>\n",
       "      <td>0</td>\n",
       "      <td>0</td>\n",
       "      <td>0</td>\n",
       "      <td>1</td>\n",
       "      <td>0</td>\n",
       "      <td>0</td>\n",
       "      <td>0</td>\n",
       "      <td>0</td>\n",
       "    </tr>\n",
       "  </tbody>\n",
       "</table>\n",
       "<p>5 rows × 33 columns</p>\n",
       "</div>"
      ],
      "text/plain": [
       "   job_blue-collar  job_entrepreneur  job_housemaid  job_management  \\\n",
       "0                0                 0              1               0   \n",
       "1                0                 0              0               0   \n",
       "2                0                 0              0               0   \n",
       "3                0                 0              0               0   \n",
       "4                0                 0              0               0   \n",
       "\n",
       "   job_retired  job_self-employed  job_services  job_student  job_technician  \\\n",
       "0            0                  0             0            0               0   \n",
       "1            0                  0             1            0               0   \n",
       "2            0                  0             1            0               0   \n",
       "3            0                  0             0            0               0   \n",
       "4            0                  0             1            0               0   \n",
       "\n",
       "   job_unemployed  ...  month_aug  month_dec  month_jul  month_jun  month_mar  \\\n",
       "0               0  ...          0          0          0          0          0   \n",
       "1               0  ...          0          0          0          0          0   \n",
       "2               0  ...          0          0          0          0          0   \n",
       "3               0  ...          0          0          0          0          0   \n",
       "4               0  ...          0          0          0          0          0   \n",
       "\n",
       "   month_may  month_nov  month_oct  month_sep  poutcome_success  \n",
       "0          1          0          0          0                 0  \n",
       "1          1          0          0          0                 0  \n",
       "2          1          0          0          0                 0  \n",
       "3          1          0          0          0                 0  \n",
       "4          1          0          0          0                 0  \n",
       "\n",
       "[5 rows x 33 columns]"
      ]
     },
     "execution_count": 26,
     "metadata": {},
     "output_type": "execute_result"
    }
   ],
   "source": [
    "#set dummies\n",
    "predictors = ['job', 'marital', 'education', 'default', 'housing', 'loan', 'contact', 'month', 'poutcome']\n",
    "banknew = pd.get_dummies(bank[predictors], drop_first=True)\n",
    "banknew.head()"
   ]
  },
  {
   "cell_type": "markdown",
   "metadata": {},
   "source": [
    "#### Here I used both oversampling and undersampling as two methods to balance the data. In the visualization part, the result od 'No' is far less than 'Yes' and the sample of 'NO' is less than 5000, so in the following model training process I firstly did the undersampling and randomly selected 0.15 of the new data."
   ]
  },
  {
   "cell_type": "code",
   "execution_count": 27,
   "metadata": {},
   "outputs": [
    {
     "name": "stdout",
     "output_type": "stream",
     "text": [
      "(2746, 33)\n"
     ]
    },
    {
     "data": {
      "text/html": [
       "<div>\n",
       "<style scoped>\n",
       "    .dataframe tbody tr th:only-of-type {\n",
       "        vertical-align: middle;\n",
       "    }\n",
       "\n",
       "    .dataframe tbody tr th {\n",
       "        vertical-align: top;\n",
       "    }\n",
       "\n",
       "    .dataframe thead th {\n",
       "        text-align: right;\n",
       "    }\n",
       "</style>\n",
       "<table border=\"1\" class=\"dataframe\">\n",
       "  <thead>\n",
       "    <tr style=\"text-align: right;\">\n",
       "      <th></th>\n",
       "      <th>job_blue-collar</th>\n",
       "      <th>job_entrepreneur</th>\n",
       "      <th>job_housemaid</th>\n",
       "      <th>job_management</th>\n",
       "      <th>job_retired</th>\n",
       "      <th>job_self-employed</th>\n",
       "      <th>job_services</th>\n",
       "      <th>job_student</th>\n",
       "      <th>job_technician</th>\n",
       "      <th>job_unemployed</th>\n",
       "      <th>...</th>\n",
       "      <th>month_aug</th>\n",
       "      <th>month_dec</th>\n",
       "      <th>month_jul</th>\n",
       "      <th>month_jun</th>\n",
       "      <th>month_mar</th>\n",
       "      <th>month_may</th>\n",
       "      <th>month_nov</th>\n",
       "      <th>month_oct</th>\n",
       "      <th>month_sep</th>\n",
       "      <th>poutcome_success</th>\n",
       "    </tr>\n",
       "  </thead>\n",
       "  <tbody>\n",
       "    <tr>\n",
       "      <th>count</th>\n",
       "      <td>2746.000000</td>\n",
       "      <td>2746.000000</td>\n",
       "      <td>2746.000000</td>\n",
       "      <td>2746.000000</td>\n",
       "      <td>2746.000000</td>\n",
       "      <td>2746.000000</td>\n",
       "      <td>2746.000000</td>\n",
       "      <td>2746.000000</td>\n",
       "      <td>2746.000000</td>\n",
       "      <td>2746.000000</td>\n",
       "      <td>...</td>\n",
       "      <td>2746.000000</td>\n",
       "      <td>2746.000000</td>\n",
       "      <td>2746.000000</td>\n",
       "      <td>2746.000000</td>\n",
       "      <td>2746.000000</td>\n",
       "      <td>2746.000000</td>\n",
       "      <td>2746.000000</td>\n",
       "      <td>2746.000000</td>\n",
       "      <td>2746.000000</td>\n",
       "      <td>2746.000000</td>\n",
       "    </tr>\n",
       "    <tr>\n",
       "      <th>mean</th>\n",
       "      <td>0.156956</td>\n",
       "      <td>0.023671</td>\n",
       "      <td>0.025856</td>\n",
       "      <td>0.070648</td>\n",
       "      <td>0.079024</td>\n",
       "      <td>0.029862</td>\n",
       "      <td>0.075382</td>\n",
       "      <td>0.051712</td>\n",
       "      <td>0.161326</td>\n",
       "      <td>0.034960</td>\n",
       "      <td>...</td>\n",
       "      <td>0.150765</td>\n",
       "      <td>0.017116</td>\n",
       "      <td>0.130007</td>\n",
       "      <td>0.118718</td>\n",
       "      <td>0.034596</td>\n",
       "      <td>0.256737</td>\n",
       "      <td>0.105608</td>\n",
       "      <td>0.054989</td>\n",
       "      <td>0.058995</td>\n",
       "      <td>0.500000</td>\n",
       "    </tr>\n",
       "    <tr>\n",
       "      <th>std</th>\n",
       "      <td>0.363825</td>\n",
       "      <td>0.152049</td>\n",
       "      <td>0.158734</td>\n",
       "      <td>0.256283</td>\n",
       "      <td>0.269825</td>\n",
       "      <td>0.170236</td>\n",
       "      <td>0.264055</td>\n",
       "      <td>0.221484</td>\n",
       "      <td>0.367898</td>\n",
       "      <td>0.183712</td>\n",
       "      <td>...</td>\n",
       "      <td>0.357885</td>\n",
       "      <td>0.129727</td>\n",
       "      <td>0.336373</td>\n",
       "      <td>0.323515</td>\n",
       "      <td>0.182787</td>\n",
       "      <td>0.436913</td>\n",
       "      <td>0.307391</td>\n",
       "      <td>0.228000</td>\n",
       "      <td>0.235658</td>\n",
       "      <td>0.500091</td>\n",
       "    </tr>\n",
       "    <tr>\n",
       "      <th>min</th>\n",
       "      <td>0.000000</td>\n",
       "      <td>0.000000</td>\n",
       "      <td>0.000000</td>\n",
       "      <td>0.000000</td>\n",
       "      <td>0.000000</td>\n",
       "      <td>0.000000</td>\n",
       "      <td>0.000000</td>\n",
       "      <td>0.000000</td>\n",
       "      <td>0.000000</td>\n",
       "      <td>0.000000</td>\n",
       "      <td>...</td>\n",
       "      <td>0.000000</td>\n",
       "      <td>0.000000</td>\n",
       "      <td>0.000000</td>\n",
       "      <td>0.000000</td>\n",
       "      <td>0.000000</td>\n",
       "      <td>0.000000</td>\n",
       "      <td>0.000000</td>\n",
       "      <td>0.000000</td>\n",
       "      <td>0.000000</td>\n",
       "      <td>0.000000</td>\n",
       "    </tr>\n",
       "    <tr>\n",
       "      <th>25%</th>\n",
       "      <td>0.000000</td>\n",
       "      <td>0.000000</td>\n",
       "      <td>0.000000</td>\n",
       "      <td>0.000000</td>\n",
       "      <td>0.000000</td>\n",
       "      <td>0.000000</td>\n",
       "      <td>0.000000</td>\n",
       "      <td>0.000000</td>\n",
       "      <td>0.000000</td>\n",
       "      <td>0.000000</td>\n",
       "      <td>...</td>\n",
       "      <td>0.000000</td>\n",
       "      <td>0.000000</td>\n",
       "      <td>0.000000</td>\n",
       "      <td>0.000000</td>\n",
       "      <td>0.000000</td>\n",
       "      <td>0.000000</td>\n",
       "      <td>0.000000</td>\n",
       "      <td>0.000000</td>\n",
       "      <td>0.000000</td>\n",
       "      <td>0.000000</td>\n",
       "    </tr>\n",
       "    <tr>\n",
       "      <th>50%</th>\n",
       "      <td>0.000000</td>\n",
       "      <td>0.000000</td>\n",
       "      <td>0.000000</td>\n",
       "      <td>0.000000</td>\n",
       "      <td>0.000000</td>\n",
       "      <td>0.000000</td>\n",
       "      <td>0.000000</td>\n",
       "      <td>0.000000</td>\n",
       "      <td>0.000000</td>\n",
       "      <td>0.000000</td>\n",
       "      <td>...</td>\n",
       "      <td>0.000000</td>\n",
       "      <td>0.000000</td>\n",
       "      <td>0.000000</td>\n",
       "      <td>0.000000</td>\n",
       "      <td>0.000000</td>\n",
       "      <td>0.000000</td>\n",
       "      <td>0.000000</td>\n",
       "      <td>0.000000</td>\n",
       "      <td>0.000000</td>\n",
       "      <td>0.500000</td>\n",
       "    </tr>\n",
       "    <tr>\n",
       "      <th>75%</th>\n",
       "      <td>0.000000</td>\n",
       "      <td>0.000000</td>\n",
       "      <td>0.000000</td>\n",
       "      <td>0.000000</td>\n",
       "      <td>0.000000</td>\n",
       "      <td>0.000000</td>\n",
       "      <td>0.000000</td>\n",
       "      <td>0.000000</td>\n",
       "      <td>0.000000</td>\n",
       "      <td>0.000000</td>\n",
       "      <td>...</td>\n",
       "      <td>0.000000</td>\n",
       "      <td>0.000000</td>\n",
       "      <td>0.000000</td>\n",
       "      <td>0.000000</td>\n",
       "      <td>0.000000</td>\n",
       "      <td>1.000000</td>\n",
       "      <td>0.000000</td>\n",
       "      <td>0.000000</td>\n",
       "      <td>0.000000</td>\n",
       "      <td>1.000000</td>\n",
       "    </tr>\n",
       "    <tr>\n",
       "      <th>max</th>\n",
       "      <td>1.000000</td>\n",
       "      <td>1.000000</td>\n",
       "      <td>1.000000</td>\n",
       "      <td>1.000000</td>\n",
       "      <td>1.000000</td>\n",
       "      <td>1.000000</td>\n",
       "      <td>1.000000</td>\n",
       "      <td>1.000000</td>\n",
       "      <td>1.000000</td>\n",
       "      <td>1.000000</td>\n",
       "      <td>...</td>\n",
       "      <td>1.000000</td>\n",
       "      <td>1.000000</td>\n",
       "      <td>1.000000</td>\n",
       "      <td>1.000000</td>\n",
       "      <td>1.000000</td>\n",
       "      <td>1.000000</td>\n",
       "      <td>1.000000</td>\n",
       "      <td>1.000000</td>\n",
       "      <td>1.000000</td>\n",
       "      <td>1.000000</td>\n",
       "    </tr>\n",
       "  </tbody>\n",
       "</table>\n",
       "<p>8 rows × 33 columns</p>\n",
       "</div>"
      ],
      "text/plain": [
       "       job_blue-collar  job_entrepreneur  job_housemaid  job_management  \\\n",
       "count      2746.000000       2746.000000    2746.000000     2746.000000   \n",
       "mean          0.156956          0.023671       0.025856        0.070648   \n",
       "std           0.363825          0.152049       0.158734        0.256283   \n",
       "min           0.000000          0.000000       0.000000        0.000000   \n",
       "25%           0.000000          0.000000       0.000000        0.000000   \n",
       "50%           0.000000          0.000000       0.000000        0.000000   \n",
       "75%           0.000000          0.000000       0.000000        0.000000   \n",
       "max           1.000000          1.000000       1.000000        1.000000   \n",
       "\n",
       "       job_retired  job_self-employed  job_services  job_student  \\\n",
       "count  2746.000000        2746.000000   2746.000000  2746.000000   \n",
       "mean      0.079024           0.029862      0.075382     0.051712   \n",
       "std       0.269825           0.170236      0.264055     0.221484   \n",
       "min       0.000000           0.000000      0.000000     0.000000   \n",
       "25%       0.000000           0.000000      0.000000     0.000000   \n",
       "50%       0.000000           0.000000      0.000000     0.000000   \n",
       "75%       0.000000           0.000000      0.000000     0.000000   \n",
       "max       1.000000           1.000000      1.000000     1.000000   \n",
       "\n",
       "       job_technician  job_unemployed  ...    month_aug    month_dec  \\\n",
       "count     2746.000000     2746.000000  ...  2746.000000  2746.000000   \n",
       "mean         0.161326        0.034960  ...     0.150765     0.017116   \n",
       "std          0.367898        0.183712  ...     0.357885     0.129727   \n",
       "min          0.000000        0.000000  ...     0.000000     0.000000   \n",
       "25%          0.000000        0.000000  ...     0.000000     0.000000   \n",
       "50%          0.000000        0.000000  ...     0.000000     0.000000   \n",
       "75%          0.000000        0.000000  ...     0.000000     0.000000   \n",
       "max          1.000000        1.000000  ...     1.000000     1.000000   \n",
       "\n",
       "         month_jul    month_jun    month_mar    month_may    month_nov  \\\n",
       "count  2746.000000  2746.000000  2746.000000  2746.000000  2746.000000   \n",
       "mean      0.130007     0.118718     0.034596     0.256737     0.105608   \n",
       "std       0.336373     0.323515     0.182787     0.436913     0.307391   \n",
       "min       0.000000     0.000000     0.000000     0.000000     0.000000   \n",
       "25%       0.000000     0.000000     0.000000     0.000000     0.000000   \n",
       "50%       0.000000     0.000000     0.000000     0.000000     0.000000   \n",
       "75%       0.000000     0.000000     0.000000     1.000000     0.000000   \n",
       "max       1.000000     1.000000     1.000000     1.000000     1.000000   \n",
       "\n",
       "         month_oct    month_sep  poutcome_success  \n",
       "count  2746.000000  2746.000000       2746.000000  \n",
       "mean      0.054989     0.058995          0.500000  \n",
       "std       0.228000     0.235658          0.500091  \n",
       "min       0.000000     0.000000          0.000000  \n",
       "25%       0.000000     0.000000          0.000000  \n",
       "50%       0.000000     0.000000          0.500000  \n",
       "75%       0.000000     0.000000          1.000000  \n",
       "max       1.000000     1.000000          1.000000  \n",
       "\n",
       "[8 rows x 33 columns]"
      ]
     },
     "execution_count": 27,
     "metadata": {},
     "output_type": "execute_result"
    }
   ],
   "source": [
    "#Undersampling\n",
    "y = banknew['poutcome_success']\n",
    "X = banknew.drop(columns=['poutcome_success'])\n",
    "under = RandomUnderSampler(sampling_strategy=1)\n",
    "X,y = under.fit_resample(X,y)\n",
    "y = pd.DataFrame(y)\n",
    "dt1 = pd.concat([X,y],axis=1)\n",
    "print(dt1.shape)\n",
    "dt1.describe()"
   ]
  },
  {
   "cell_type": "code",
   "execution_count": 28,
   "metadata": {},
   "outputs": [
    {
     "name": "stderr",
     "output_type": "stream",
     "text": [
      "C:\\Users\\Angela Chen\\anaconda3\\lib\\site-packages\\seaborn\\_decorators.py:36: FutureWarning: Pass the following variable as a keyword arg: x. From version 0.12, the only valid positional argument will be `data`, and passing other arguments without an explicit keyword will result in an error or misinterpretation.\n",
      "  warnings.warn(\n"
     ]
    },
    {
     "data": {
      "image/png": "[encoded data removed]",
      "text/plain": [
       "<Figure size 432x288 with 1 Axes>"
      ]
     },
     "metadata": {
      "needs_background": "light"
     },
     "output_type": "display_data"
    }
   ],
   "source": [
    "g = sns.countplot(dt1['poutcome_success'])\n",
    "#g.set_xticklabels(['not have diabetes','Diabetes'])\n",
    "plt.show()"
   ]
  },
  {
   "cell_type": "code",
   "execution_count": 29,
   "metadata": {},
   "outputs": [
    {
     "name": "stdout",
     "output_type": "stream",
     "text": [
      "(79630, 33)\n"
     ]
    },
    {
     "data": {
      "text/html": [
       "<div>\n",
       "<style scoped>\n",
       "    .dataframe tbody tr th:only-of-type {\n",
       "        vertical-align: middle;\n",
       "    }\n",
       "\n",
       "    .dataframe tbody tr th {\n",
       "        vertical-align: top;\n",
       "    }\n",
       "\n",
       "    .dataframe thead th {\n",
       "        text-align: right;\n",
       "    }\n",
       "</style>\n",
       "<table border=\"1\" class=\"dataframe\">\n",
       "  <thead>\n",
       "    <tr style=\"text-align: right;\">\n",
       "      <th></th>\n",
       "      <th>job_blue-collar</th>\n",
       "      <th>job_entrepreneur</th>\n",
       "      <th>job_housemaid</th>\n",
       "      <th>job_management</th>\n",
       "      <th>job_retired</th>\n",
       "      <th>job_self-employed</th>\n",
       "      <th>job_services</th>\n",
       "      <th>job_student</th>\n",
       "      <th>job_technician</th>\n",
       "      <th>job_unemployed</th>\n",
       "      <th>...</th>\n",
       "      <th>month_aug</th>\n",
       "      <th>month_dec</th>\n",
       "      <th>month_jul</th>\n",
       "      <th>month_jun</th>\n",
       "      <th>month_mar</th>\n",
       "      <th>month_may</th>\n",
       "      <th>month_nov</th>\n",
       "      <th>month_oct</th>\n",
       "      <th>month_sep</th>\n",
       "      <th>poutcome_success</th>\n",
       "    </tr>\n",
       "  </thead>\n",
       "  <tbody>\n",
       "    <tr>\n",
       "      <th>count</th>\n",
       "      <td>79630.000000</td>\n",
       "      <td>79630.000000</td>\n",
       "      <td>79630.000000</td>\n",
       "      <td>79630.000000</td>\n",
       "      <td>79630.000000</td>\n",
       "      <td>79630.000000</td>\n",
       "      <td>79630.000000</td>\n",
       "      <td>79630.000000</td>\n",
       "      <td>79630.000000</td>\n",
       "      <td>79630.000000</td>\n",
       "      <td>...</td>\n",
       "      <td>79630.000000</td>\n",
       "      <td>79630.000000</td>\n",
       "      <td>79630.000000</td>\n",
       "      <td>79630.000000</td>\n",
       "      <td>79630.000000</td>\n",
       "      <td>79630.000000</td>\n",
       "      <td>79630.000000</td>\n",
       "      <td>79630.000000</td>\n",
       "      <td>79630.000000</td>\n",
       "      <td>79630.000000</td>\n",
       "    </tr>\n",
       "    <tr>\n",
       "      <th>mean</th>\n",
       "      <td>1.248273</td>\n",
       "      <td>0.820897</td>\n",
       "      <td>0.937599</td>\n",
       "      <td>1.260869</td>\n",
       "      <td>1.496245</td>\n",
       "      <td>1.119679</td>\n",
       "      <td>1.604081</td>\n",
       "      <td>1.348449</td>\n",
       "      <td>2.382180</td>\n",
       "      <td>1.632237</td>\n",
       "      <td>...</td>\n",
       "      <td>0.932500</td>\n",
       "      <td>0.904232</td>\n",
       "      <td>0.952267</td>\n",
       "      <td>1.027264</td>\n",
       "      <td>0.933254</td>\n",
       "      <td>0.839910</td>\n",
       "      <td>0.939583</td>\n",
       "      <td>0.725028</td>\n",
       "      <td>0.930742</td>\n",
       "      <td>0.500000</td>\n",
       "    </tr>\n",
       "    <tr>\n",
       "      <th>std</th>\n",
       "      <td>13.548338</td>\n",
       "      <td>11.645956</td>\n",
       "      <td>12.543772</td>\n",
       "      <td>14.103527</td>\n",
       "      <td>15.525111</td>\n",
       "      <td>13.655483</td>\n",
       "      <td>16.166697</td>\n",
       "      <td>14.998041</td>\n",
       "      <td>19.292732</td>\n",
       "      <td>16.437235</td>\n",
       "      <td>...</td>\n",
       "      <td>11.541551</td>\n",
       "      <td>12.270974</td>\n",
       "      <td>11.734332</td>\n",
       "      <td>12.544976</td>\n",
       "      <td>12.476964</td>\n",
       "      <td>10.022972</td>\n",
       "      <td>11.926230</td>\n",
       "      <td>10.669613</td>\n",
       "      <td>12.193781</td>\n",
       "      <td>0.500003</td>\n",
       "    </tr>\n",
       "    <tr>\n",
       "      <th>min</th>\n",
       "      <td>0.000000</td>\n",
       "      <td>0.000000</td>\n",
       "      <td>0.000000</td>\n",
       "      <td>0.000000</td>\n",
       "      <td>0.000000</td>\n",
       "      <td>0.000000</td>\n",
       "      <td>0.000000</td>\n",
       "      <td>0.000000</td>\n",
       "      <td>0.000000</td>\n",
       "      <td>0.000000</td>\n",
       "      <td>...</td>\n",
       "      <td>0.000000</td>\n",
       "      <td>0.000000</td>\n",
       "      <td>0.000000</td>\n",
       "      <td>0.000000</td>\n",
       "      <td>0.000000</td>\n",
       "      <td>0.000000</td>\n",
       "      <td>0.000000</td>\n",
       "      <td>0.000000</td>\n",
       "      <td>0.000000</td>\n",
       "      <td>0.000000</td>\n",
       "    </tr>\n",
       "    <tr>\n",
       "      <th>25%</th>\n",
       "      <td>0.000000</td>\n",
       "      <td>0.000000</td>\n",
       "      <td>0.000000</td>\n",
       "      <td>0.000000</td>\n",
       "      <td>0.000000</td>\n",
       "      <td>0.000000</td>\n",
       "      <td>0.000000</td>\n",
       "      <td>0.000000</td>\n",
       "      <td>0.000000</td>\n",
       "      <td>0.000000</td>\n",
       "      <td>...</td>\n",
       "      <td>0.000000</td>\n",
       "      <td>0.000000</td>\n",
       "      <td>0.000000</td>\n",
       "      <td>0.000000</td>\n",
       "      <td>0.000000</td>\n",
       "      <td>0.000000</td>\n",
       "      <td>0.000000</td>\n",
       "      <td>0.000000</td>\n",
       "      <td>0.000000</td>\n",
       "      <td>0.000000</td>\n",
       "    </tr>\n",
       "    <tr>\n",
       "      <th>50%</th>\n",
       "      <td>0.000000</td>\n",
       "      <td>0.000000</td>\n",
       "      <td>0.000000</td>\n",
       "      <td>0.000000</td>\n",
       "      <td>0.000000</td>\n",
       "      <td>0.000000</td>\n",
       "      <td>0.000000</td>\n",
       "      <td>0.000000</td>\n",
       "      <td>0.000000</td>\n",
       "      <td>0.000000</td>\n",
       "      <td>...</td>\n",
       "      <td>0.000000</td>\n",
       "      <td>0.000000</td>\n",
       "      <td>0.000000</td>\n",
       "      <td>0.000000</td>\n",
       "      <td>0.000000</td>\n",
       "      <td>0.000000</td>\n",
       "      <td>0.000000</td>\n",
       "      <td>0.000000</td>\n",
       "      <td>0.000000</td>\n",
       "      <td>0.500000</td>\n",
       "    </tr>\n",
       "    <tr>\n",
       "      <th>75%</th>\n",
       "      <td>0.000000</td>\n",
       "      <td>0.000000</td>\n",
       "      <td>0.000000</td>\n",
       "      <td>0.000000</td>\n",
       "      <td>0.000000</td>\n",
       "      <td>0.000000</td>\n",
       "      <td>0.000000</td>\n",
       "      <td>0.000000</td>\n",
       "      <td>0.000000</td>\n",
       "      <td>0.000000</td>\n",
       "      <td>...</td>\n",
       "      <td>0.000000</td>\n",
       "      <td>0.000000</td>\n",
       "      <td>0.000000</td>\n",
       "      <td>0.000000</td>\n",
       "      <td>0.000000</td>\n",
       "      <td>1.000000</td>\n",
       "      <td>0.000000</td>\n",
       "      <td>0.000000</td>\n",
       "      <td>0.000000</td>\n",
       "      <td>1.000000</td>\n",
       "    </tr>\n",
       "    <tr>\n",
       "      <th>max</th>\n",
       "      <td>255.000000</td>\n",
       "      <td>254.000000</td>\n",
       "      <td>255.000000</td>\n",
       "      <td>255.000000</td>\n",
       "      <td>255.000000</td>\n",
       "      <td>255.000000</td>\n",
       "      <td>255.000000</td>\n",
       "      <td>255.000000</td>\n",
       "      <td>255.000000</td>\n",
       "      <td>255.000000</td>\n",
       "      <td>...</td>\n",
       "      <td>255.000000</td>\n",
       "      <td>254.000000</td>\n",
       "      <td>255.000000</td>\n",
       "      <td>254.000000</td>\n",
       "      <td>255.000000</td>\n",
       "      <td>255.000000</td>\n",
       "      <td>255.000000</td>\n",
       "      <td>255.000000</td>\n",
       "      <td>255.000000</td>\n",
       "      <td>1.000000</td>\n",
       "    </tr>\n",
       "  </tbody>\n",
       "</table>\n",
       "<p>8 rows × 33 columns</p>\n",
       "</div>"
      ],
      "text/plain": [
       "       job_blue-collar  job_entrepreneur  job_housemaid  job_management  \\\n",
       "count     79630.000000      79630.000000   79630.000000    79630.000000   \n",
       "mean          1.248273          0.820897       0.937599        1.260869   \n",
       "std          13.548338         11.645956      12.543772       14.103527   \n",
       "min           0.000000          0.000000       0.000000        0.000000   \n",
       "25%           0.000000          0.000000       0.000000        0.000000   \n",
       "50%           0.000000          0.000000       0.000000        0.000000   \n",
       "75%           0.000000          0.000000       0.000000        0.000000   \n",
       "max         255.000000        254.000000     255.000000      255.000000   \n",
       "\n",
       "        job_retired  job_self-employed  job_services   job_student  \\\n",
       "count  79630.000000       79630.000000  79630.000000  79630.000000   \n",
       "mean       1.496245           1.119679      1.604081      1.348449   \n",
       "std       15.525111          13.655483     16.166697     14.998041   \n",
       "min        0.000000           0.000000      0.000000      0.000000   \n",
       "25%        0.000000           0.000000      0.000000      0.000000   \n",
       "50%        0.000000           0.000000      0.000000      0.000000   \n",
       "75%        0.000000           0.000000      0.000000      0.000000   \n",
       "max      255.000000         255.000000    255.000000    255.000000   \n",
       "\n",
       "       job_technician  job_unemployed  ...     month_aug     month_dec  \\\n",
       "count    79630.000000    79630.000000  ...  79630.000000  79630.000000   \n",
       "mean         2.382180        1.632237  ...      0.932500      0.904232   \n",
       "std         19.292732       16.437235  ...     11.541551     12.270974   \n",
       "min          0.000000        0.000000  ...      0.000000      0.000000   \n",
       "25%          0.000000        0.000000  ...      0.000000      0.000000   \n",
       "50%          0.000000        0.000000  ...      0.000000      0.000000   \n",
       "75%          0.000000        0.000000  ...      0.000000      0.000000   \n",
       "max        255.000000      255.000000  ...    255.000000    254.000000   \n",
       "\n",
       "          month_jul     month_jun     month_mar     month_may     month_nov  \\\n",
       "count  79630.000000  79630.000000  79630.000000  79630.000000  79630.000000   \n",
       "mean       0.952267      1.027264      0.933254      0.839910      0.939583   \n",
       "std       11.734332     12.544976     12.476964     10.022972     11.926230   \n",
       "min        0.000000      0.000000      0.000000      0.000000      0.000000   \n",
       "25%        0.000000      0.000000      0.000000      0.000000      0.000000   \n",
       "50%        0.000000      0.000000      0.000000      0.000000      0.000000   \n",
       "75%        0.000000      0.000000      0.000000      1.000000      0.000000   \n",
       "max      255.000000    254.000000    255.000000    255.000000    255.000000   \n",
       "\n",
       "          month_oct     month_sep  poutcome_success  \n",
       "count  79630.000000  79630.000000      79630.000000  \n",
       "mean       0.725028      0.930742          0.500000  \n",
       "std       10.669613     12.193781          0.500003  \n",
       "min        0.000000      0.000000          0.000000  \n",
       "25%        0.000000      0.000000          0.000000  \n",
       "50%        0.000000      0.000000          0.500000  \n",
       "75%        0.000000      0.000000          1.000000  \n",
       "max      255.000000    255.000000          1.000000  \n",
       "\n",
       "[8 rows x 33 columns]"
      ]
     },
     "execution_count": 29,
     "metadata": {},
     "output_type": "execute_result"
    }
   ],
   "source": [
    "#Oversampling\n",
    "y = banknew['poutcome_success']\n",
    "X = banknew.drop(columns=['poutcome_success'])\n",
    "oversample = SMOTE()\n",
    "X,y = oversample.fit_resample(X,y)\n",
    "y = pd.DataFrame(y)\n",
    "dt = pd.concat([X,y],axis=1)\n",
    "print(dt.shape)\n",
    "dt.describe()"
   ]
  },
  {
   "cell_type": "markdown",
   "metadata": {},
   "source": [
    "#### There are too many data, to run the models with over 70,000 data would be time consuming, then I used the function sample() to randomly select 10% of the generated balanced dataset"
   ]
  },
  {
   "cell_type": "code",
   "execution_count": 30,
   "metadata": {},
   "outputs": [
    {
     "name": "stdout",
     "output_type": "stream",
     "text": [
      "(7963, 33)\n"
     ]
    }
   ],
   "source": [
    "dt = dt.sample(frac= 0.1, random_state=8)\n",
    "print(dt.shape)"
   ]
  },
  {
   "cell_type": "markdown",
   "metadata": {},
   "source": [
    "### Rescaling"
   ]
  },
  {
   "cell_type": "code",
   "execution_count": 31,
   "metadata": {},
   "outputs": [
    {
     "data": {
      "text/html": [
       "<div>\n",
       "<style scoped>\n",
       "    .dataframe tbody tr th:only-of-type {\n",
       "        vertical-align: middle;\n",
       "    }\n",
       "\n",
       "    .dataframe tbody tr th {\n",
       "        vertical-align: top;\n",
       "    }\n",
       "\n",
       "    .dataframe thead th {\n",
       "        text-align: right;\n",
       "    }\n",
       "</style>\n",
       "<table border=\"1\" class=\"dataframe\">\n",
       "  <thead>\n",
       "    <tr style=\"text-align: right;\">\n",
       "      <th></th>\n",
       "      <th>job_blue-collar</th>\n",
       "      <th>job_entrepreneur</th>\n",
       "      <th>job_housemaid</th>\n",
       "      <th>job_management</th>\n",
       "      <th>job_retired</th>\n",
       "      <th>job_self-employed</th>\n",
       "      <th>job_services</th>\n",
       "      <th>job_student</th>\n",
       "      <th>job_technician</th>\n",
       "      <th>job_unemployed</th>\n",
       "      <th>...</th>\n",
       "      <th>contact_telephone</th>\n",
       "      <th>month_aug</th>\n",
       "      <th>month_dec</th>\n",
       "      <th>month_jul</th>\n",
       "      <th>month_jun</th>\n",
       "      <th>month_mar</th>\n",
       "      <th>month_may</th>\n",
       "      <th>month_nov</th>\n",
       "      <th>month_oct</th>\n",
       "      <th>month_sep</th>\n",
       "    </tr>\n",
       "  </thead>\n",
       "  <tbody>\n",
       "    <tr>\n",
       "      <th>0</th>\n",
       "      <td>-0.097281</td>\n",
       "      <td>-0.066835</td>\n",
       "      <td>-0.080219</td>\n",
       "      <td>-0.101201</td>\n",
       "      <td>-0.100682</td>\n",
       "      <td>-0.079161</td>\n",
       "      <td>-0.104388</td>\n",
       "      <td>-0.088383</td>\n",
       "      <td>-0.073997</td>\n",
       "      <td>-0.109307</td>\n",
       "      <td>...</td>\n",
       "      <td>-0.147806</td>\n",
       "      <td>-0.087904</td>\n",
       "      <td>-0.073453</td>\n",
       "      <td>-0.088454</td>\n",
       "      <td>-0.072283</td>\n",
       "      <td>-0.081661</td>\n",
       "      <td>-0.088893</td>\n",
       "      <td>-0.077289</td>\n",
       "      <td>0.019046</td>\n",
       "      <td>-0.075091</td>\n",
       "    </tr>\n",
       "    <tr>\n",
       "      <th>1</th>\n",
       "      <td>-0.097281</td>\n",
       "      <td>0.023217</td>\n",
       "      <td>-0.080219</td>\n",
       "      <td>-0.101201</td>\n",
       "      <td>-0.100682</td>\n",
       "      <td>-0.079161</td>\n",
       "      <td>-0.104388</td>\n",
       "      <td>-0.088383</td>\n",
       "      <td>-0.124623</td>\n",
       "      <td>-0.109307</td>\n",
       "      <td>...</td>\n",
       "      <td>-0.147806</td>\n",
       "      <td>-0.087904</td>\n",
       "      <td>-0.073453</td>\n",
       "      <td>-0.018424</td>\n",
       "      <td>-0.072283</td>\n",
       "      <td>-0.081661</td>\n",
       "      <td>-0.088893</td>\n",
       "      <td>-0.077289</td>\n",
       "      <td>-0.072481</td>\n",
       "      <td>-0.075091</td>\n",
       "    </tr>\n",
       "    <tr>\n",
       "      <th>2</th>\n",
       "      <td>-0.097281</td>\n",
       "      <td>-0.066835</td>\n",
       "      <td>-0.080219</td>\n",
       "      <td>-0.101201</td>\n",
       "      <td>-0.100682</td>\n",
       "      <td>-0.079161</td>\n",
       "      <td>-0.104388</td>\n",
       "      <td>-0.088383</td>\n",
       "      <td>-0.073997</td>\n",
       "      <td>-0.109307</td>\n",
       "      <td>...</td>\n",
       "      <td>-0.106973</td>\n",
       "      <td>-0.087904</td>\n",
       "      <td>-0.073453</td>\n",
       "      <td>-0.088454</td>\n",
       "      <td>-0.072283</td>\n",
       "      <td>-0.081661</td>\n",
       "      <td>-0.088893</td>\n",
       "      <td>0.009713</td>\n",
       "      <td>-0.072481</td>\n",
       "      <td>-0.075091</td>\n",
       "    </tr>\n",
       "    <tr>\n",
       "      <th>3</th>\n",
       "      <td>-0.032097</td>\n",
       "      <td>-0.066835</td>\n",
       "      <td>-0.080219</td>\n",
       "      <td>-0.101201</td>\n",
       "      <td>-0.100682</td>\n",
       "      <td>-0.079161</td>\n",
       "      <td>-0.104388</td>\n",
       "      <td>-0.088383</td>\n",
       "      <td>-0.124623</td>\n",
       "      <td>-0.109307</td>\n",
       "      <td>...</td>\n",
       "      <td>-0.147806</td>\n",
       "      <td>-0.087904</td>\n",
       "      <td>-0.073453</td>\n",
       "      <td>-0.088454</td>\n",
       "      <td>-0.072283</td>\n",
       "      <td>-0.081661</td>\n",
       "      <td>-0.088893</td>\n",
       "      <td>-0.077289</td>\n",
       "      <td>-0.072481</td>\n",
       "      <td>-0.075091</td>\n",
       "    </tr>\n",
       "    <tr>\n",
       "      <th>4</th>\n",
       "      <td>-0.097281</td>\n",
       "      <td>-0.066835</td>\n",
       "      <td>-0.080219</td>\n",
       "      <td>-0.034090</td>\n",
       "      <td>-0.100682</td>\n",
       "      <td>-0.079161</td>\n",
       "      <td>-0.104388</td>\n",
       "      <td>-0.088383</td>\n",
       "      <td>-0.124623</td>\n",
       "      <td>-0.109307</td>\n",
       "      <td>...</td>\n",
       "      <td>-0.147806</td>\n",
       "      <td>0.007513</td>\n",
       "      <td>-0.073453</td>\n",
       "      <td>-0.088454</td>\n",
       "      <td>-0.072283</td>\n",
       "      <td>-0.081661</td>\n",
       "      <td>-0.088893</td>\n",
       "      <td>-0.077289</td>\n",
       "      <td>-0.072481</td>\n",
       "      <td>-0.075091</td>\n",
       "    </tr>\n",
       "  </tbody>\n",
       "</table>\n",
       "<p>5 rows × 32 columns</p>\n",
       "</div>"
      ],
      "text/plain": [
       "   job_blue-collar  job_entrepreneur  job_housemaid  job_management  \\\n",
       "0        -0.097281         -0.066835      -0.080219       -0.101201   \n",
       "1        -0.097281          0.023217      -0.080219       -0.101201   \n",
       "2        -0.097281         -0.066835      -0.080219       -0.101201   \n",
       "3        -0.032097         -0.066835      -0.080219       -0.101201   \n",
       "4        -0.097281         -0.066835      -0.080219       -0.034090   \n",
       "\n",
       "   job_retired  job_self-employed  job_services  job_student  job_technician  \\\n",
       "0    -0.100682          -0.079161     -0.104388    -0.088383       -0.073997   \n",
       "1    -0.100682          -0.079161     -0.104388    -0.088383       -0.124623   \n",
       "2    -0.100682          -0.079161     -0.104388    -0.088383       -0.073997   \n",
       "3    -0.100682          -0.079161     -0.104388    -0.088383       -0.124623   \n",
       "4    -0.100682          -0.079161     -0.104388    -0.088383       -0.124623   \n",
       "\n",
       "   job_unemployed  ...  contact_telephone  month_aug  month_dec  month_jul  \\\n",
       "0       -0.109307  ...          -0.147806  -0.087904  -0.073453  -0.088454   \n",
       "1       -0.109307  ...          -0.147806  -0.087904  -0.073453  -0.018424   \n",
       "2       -0.109307  ...          -0.106973  -0.087904  -0.073453  -0.088454   \n",
       "3       -0.109307  ...          -0.147806  -0.087904  -0.073453  -0.088454   \n",
       "4       -0.109307  ...          -0.147806   0.007513  -0.073453  -0.088454   \n",
       "\n",
       "   month_jun  month_mar  month_may  month_nov  month_oct  month_sep  \n",
       "0  -0.072283  -0.081661  -0.088893  -0.077289   0.019046  -0.075091  \n",
       "1  -0.072283  -0.081661  -0.088893  -0.077289  -0.072481  -0.075091  \n",
       "2  -0.072283  -0.081661  -0.088893   0.009713  -0.072481  -0.075091  \n",
       "3  -0.072283  -0.081661  -0.088893  -0.077289  -0.072481  -0.075091  \n",
       "4  -0.072283  -0.081661  -0.088893  -0.077289  -0.072481  -0.075091  \n",
       "\n",
       "[5 rows x 32 columns]"
      ]
     },
     "execution_count": 31,
     "metadata": {},
     "output_type": "execute_result"
    }
   ],
   "source": [
    "target = dt['poutcome_success']\n",
    "dt.drop(columns='poutcome_success', axis=1, inplace=True)\n",
    "scale = StandardScaler()\n",
    "newdata = pd.DataFrame(scale.fit_transform(dt), columns=dt.columns)\n",
    "newdata.head()"
   ]
  },
  {
   "cell_type": "code",
   "execution_count": 32,
   "metadata": {},
   "outputs": [
    {
     "name": "stdout",
     "output_type": "stream",
     "text": [
      "(7963, 32)\n",
      "(7963,)\n"
     ]
    }
   ],
   "source": [
    "X = newdata.copy()\n",
    "y = target.copy()\n",
    "print(X.shape)\n",
    "print(y.shape)\n",
    "le = LabelEncoder() \n",
    "for col in X.columns:\n",
    "    X[col] = le.fit_transform(X[col])\n",
    "Encoder_y=LabelEncoder()\n",
    "y = Encoder_y.fit_transform(y)"
   ]
  },
  {
   "cell_type": "markdown",
   "metadata": {},
   "source": [
    "### PCA components selection"
   ]
  },
  {
   "cell_type": "code",
   "execution_count": 33,
   "metadata": {},
   "outputs": [
    {
     "name": "stdout",
     "output_type": "stream",
     "text": [
      "Cumulative variance captured as we travel with each component \n",
      " [ 35.56996403  51.67481046  63.56118527  72.59607554  77.67921242\n",
      "  81.37504946  84.07266963  86.62873228  88.36961592  90.02208684\n",
      "  90.97481476  91.8288987   92.66002759  93.45934868  94.18396812\n",
      "  94.90343389  95.497817    96.0565679   96.60461913  97.10034348\n",
      "  97.58432506  98.02678467  98.4604234   98.8632199   99.26216866\n",
      "  99.50948695  99.6810478   99.82907887  99.95318656  99.9992926\n",
      "  99.99998729 100.        ]\n",
      "From above results, 29 components could capture 99% of the variance, I will keep 29 components in the following models.\n"
     ]
    }
   ],
   "source": [
    "# choose PCA components\n",
    "df_cov_matrix = np.cov(X.T)\n",
    "eig_vals, eig_vecs = np.linalg.eig(df_cov_matrix)\n",
    "eig_pairs = [(np.abs(eig_vals[i]), eig_vecs[:,i]) for i in range(len(eig_vals))]\n",
    "total = sum(eig_vals)\n",
    "var_exp = [(i /total)*100 for i in sorted(eig_vals, reverse=True)]\n",
    "cum_var_exp = np.cumsum(var_exp)\n",
    "print(\"Cumulative variance captured as we travel with each component \\n\",cum_var_exp)\n",
    "print(\"From above results, 29 components could capture 99% of the variance, I will keep 29 components in the following models.\")\n",
    "\n",
    "pca = PCA(n_components = 29)\n",
    "X = pca.fit_transform(X)\n",
    "#dfnew = pd.DataFrame(data=pcs, columns={'PC1','PC2','PC3','PC4'})\n",
    "#dfnew['target'] = y\n",
    "#dfnew.head()"
   ]
  },
  {
   "cell_type": "code",
   "execution_count": 34,
   "metadata": {},
   "outputs": [],
   "source": [
    "#Logistic regression\n",
    "#knn\n",
    "#Ridge with grid search\n",
    "#lasso\n",
    "#Kernel ridge model\n",
    "#Use grid search to decide the depth of Decision tree\n",
    "# Linear svm\n",
    "#forest = RandomForestClassifier()"
   ]
  },
  {
   "cell_type": "code",
   "execution_count": 47,
   "metadata": {},
   "outputs": [],
   "source": [
    "#a function store models and their scores into a dictionaty\n",
    "model_score = {}\n",
    "def getBestScore(model, testSize, nmc):\n",
    "    if model == 'knn':\n",
    "        best_nei = 0\n",
    "        bestscore = 0\n",
    "        for i in range(20):\n",
    "            model = KNeighborsClassifier(n_neighbors=i+1)\n",
    "            shuffle = ShuffleSplit(n_splits=nmc, test_size=testSize)\n",
    "            CVInfo = cross_validate(model, X, y, cv=shuffle, return_train_score=True)\n",
    "            #testscorelist.append(np.mean(CVInfo['test_score']))\n",
    "            if bestscore < np.mean(CVInfo['test_score']):\n",
    "                bestscore = np.mean(CVInfo['test_score'])\n",
    "                trainscore = np.mean(CVInfo['train_score'])\n",
    "                best_nei = i\n",
    "        modelnew = KNeighborsClassifier(n_neighbors=best_nei)\n",
    "        modelnew.fit(X,y)\n",
    "        #yhat = modelnew.predict(X)\n",
    "        #cmat = confusion_matrix(y, yhat) \n",
    "        print(f'The score for test is {bestscore},with {best_nei} neighbors')\n",
    "        model_score[model] = trainscore, bestscore\n",
    "        #print(f'The confusion matrix for this model is {cmat}')\n",
    "        \n",
    "    else:\n",
    "        shuffle = ShuffleSplit(n_splits=nmc, test_size=testSize)\n",
    "        CVInfo = cross_validate(model, X, y, cv=shuffle, return_train_score=True)\n",
    "        trainscore = (np.mean(CVInfo['train_score']))\n",
    "        testscore = (np.mean(CVInfo['test_score']))\n",
    "        model_score[model] = trainscore,testscore\n",
    "        print(f'The score for test is {testscore}')\n",
    "    return model_score"
   ]
  },
  {
   "cell_type": "code",
   "execution_count": 36,
   "metadata": {},
   "outputs": [
    {
     "name": "stderr",
     "output_type": "stream",
     "text": [
      "C:\\Users\\Angela Chen\\anaconda3\\lib\\site-packages\\sklearn\\linear_model\\_logistic.py:814: ConvergenceWarning: lbfgs failed to converge (status=1):\n",
      "STOP: TOTAL NO. of ITERATIONS REACHED LIMIT.\n",
      "\n",
      "Increase the number of iterations (max_iter) or scale the data as shown in:\n",
      "    https://scikit-learn.org/stable/modules/preprocessing.html\n",
      "Please also refer to the documentation for alternative solver options:\n",
      "    https://scikit-learn.org/stable/modules/linear_model.html#logistic-regression\n",
      "  n_iter_i = _check_optimize_result(\n",
      "C:\\Users\\Angela Chen\\anaconda3\\lib\\site-packages\\sklearn\\linear_model\\_logistic.py:814: ConvergenceWarning: lbfgs failed to converge (status=1):\n",
      "STOP: TOTAL NO. of ITERATIONS REACHED LIMIT.\n",
      "\n",
      "Increase the number of iterations (max_iter) or scale the data as shown in:\n",
      "    https://scikit-learn.org/stable/modules/preprocessing.html\n",
      "Please also refer to the documentation for alternative solver options:\n",
      "    https://scikit-learn.org/stable/modules/linear_model.html#logistic-regression\n",
      "  n_iter_i = _check_optimize_result(\n",
      "C:\\Users\\Angela Chen\\anaconda3\\lib\\site-packages\\sklearn\\linear_model\\_logistic.py:814: ConvergenceWarning: lbfgs failed to converge (status=1):\n",
      "STOP: TOTAL NO. of ITERATIONS REACHED LIMIT.\n",
      "\n",
      "Increase the number of iterations (max_iter) or scale the data as shown in:\n",
      "    https://scikit-learn.org/stable/modules/preprocessing.html\n",
      "Please also refer to the documentation for alternative solver options:\n",
      "    https://scikit-learn.org/stable/modules/linear_model.html#logistic-regression\n",
      "  n_iter_i = _check_optimize_result(\n",
      "C:\\Users\\Angela Chen\\anaconda3\\lib\\site-packages\\sklearn\\linear_model\\_logistic.py:814: ConvergenceWarning: lbfgs failed to converge (status=1):\n",
      "STOP: TOTAL NO. of ITERATIONS REACHED LIMIT.\n",
      "\n",
      "Increase the number of iterations (max_iter) or scale the data as shown in:\n",
      "    https://scikit-learn.org/stable/modules/preprocessing.html\n",
      "Please also refer to the documentation for alternative solver options:\n",
      "    https://scikit-learn.org/stable/modules/linear_model.html#logistic-regression\n",
      "  n_iter_i = _check_optimize_result(\n",
      "C:\\Users\\Angela Chen\\anaconda3\\lib\\site-packages\\sklearn\\linear_model\\_logistic.py:814: ConvergenceWarning: lbfgs failed to converge (status=1):\n",
      "STOP: TOTAL NO. of ITERATIONS REACHED LIMIT.\n",
      "\n",
      "Increase the number of iterations (max_iter) or scale the data as shown in:\n",
      "    https://scikit-learn.org/stable/modules/preprocessing.html\n",
      "Please also refer to the documentation for alternative solver options:\n",
      "    https://scikit-learn.org/stable/modules/linear_model.html#logistic-regression\n",
      "  n_iter_i = _check_optimize_result(\n"
     ]
    },
    {
     "name": "stdout",
     "output_type": "stream",
     "text": [
      "The confusion matrix is [[3609  310]\n",
      " [1390 2654]]\n"
     ]
    },
    {
     "name": "stderr",
     "output_type": "stream",
     "text": [
      "C:\\Users\\Angela Chen\\anaconda3\\lib\\site-packages\\sklearn\\linear_model\\_logistic.py:814: ConvergenceWarning: lbfgs failed to converge (status=1):\n",
      "STOP: TOTAL NO. of ITERATIONS REACHED LIMIT.\n",
      "\n",
      "Increase the number of iterations (max_iter) or scale the data as shown in:\n",
      "    https://scikit-learn.org/stable/modules/preprocessing.html\n",
      "Please also refer to the documentation for alternative solver options:\n",
      "    https://scikit-learn.org/stable/modules/linear_model.html#logistic-regression\n",
      "  n_iter_i = _check_optimize_result(\n",
      "C:\\Users\\Angela Chen\\anaconda3\\lib\\site-packages\\sklearn\\linear_model\\_logistic.py:814: ConvergenceWarning: lbfgs failed to converge (status=1):\n",
      "STOP: TOTAL NO. of ITERATIONS REACHED LIMIT.\n",
      "\n",
      "Increase the number of iterations (max_iter) or scale the data as shown in:\n",
      "    https://scikit-learn.org/stable/modules/preprocessing.html\n",
      "Please also refer to the documentation for alternative solver options:\n",
      "    https://scikit-learn.org/stable/modules/linear_model.html#logistic-regression\n",
      "  n_iter_i = _check_optimize_result(\n",
      "C:\\Users\\Angela Chen\\anaconda3\\lib\\site-packages\\sklearn\\linear_model\\_logistic.py:814: ConvergenceWarning: lbfgs failed to converge (status=1):\n",
      "STOP: TOTAL NO. of ITERATIONS REACHED LIMIT.\n",
      "\n",
      "Increase the number of iterations (max_iter) or scale the data as shown in:\n",
      "    https://scikit-learn.org/stable/modules/preprocessing.html\n",
      "Please also refer to the documentation for alternative solver options:\n",
      "    https://scikit-learn.org/stable/modules/linear_model.html#logistic-regression\n",
      "  n_iter_i = _check_optimize_result(\n",
      "C:\\Users\\Angela Chen\\anaconda3\\lib\\site-packages\\sklearn\\linear_model\\_logistic.py:814: ConvergenceWarning: lbfgs failed to converge (status=1):\n",
      "STOP: TOTAL NO. of ITERATIONS REACHED LIMIT.\n",
      "\n",
      "Increase the number of iterations (max_iter) or scale the data as shown in:\n",
      "    https://scikit-learn.org/stable/modules/preprocessing.html\n",
      "Please also refer to the documentation for alternative solver options:\n",
      "    https://scikit-learn.org/stable/modules/linear_model.html#logistic-regression\n",
      "  n_iter_i = _check_optimize_result(\n",
      "C:\\Users\\Angela Chen\\anaconda3\\lib\\site-packages\\sklearn\\linear_model\\_logistic.py:814: ConvergenceWarning: lbfgs failed to converge (status=1):\n",
      "STOP: TOTAL NO. of ITERATIONS REACHED LIMIT.\n",
      "\n",
      "Increase the number of iterations (max_iter) or scale the data as shown in:\n",
      "    https://scikit-learn.org/stable/modules/preprocessing.html\n",
      "Please also refer to the documentation for alternative solver options:\n",
      "    https://scikit-learn.org/stable/modules/linear_model.html#logistic-regression\n",
      "  n_iter_i = _check_optimize_result(\n",
      "C:\\Users\\Angela Chen\\anaconda3\\lib\\site-packages\\sklearn\\linear_model\\_logistic.py:814: ConvergenceWarning: lbfgs failed to converge (status=1):\n",
      "STOP: TOTAL NO. of ITERATIONS REACHED LIMIT.\n",
      "\n",
      "Increase the number of iterations (max_iter) or scale the data as shown in:\n",
      "    https://scikit-learn.org/stable/modules/preprocessing.html\n",
      "Please also refer to the documentation for alternative solver options:\n",
      "    https://scikit-learn.org/stable/modules/linear_model.html#logistic-regression\n",
      "  n_iter_i = _check_optimize_result(\n",
      "C:\\Users\\Angela Chen\\anaconda3\\lib\\site-packages\\sklearn\\linear_model\\_logistic.py:814: ConvergenceWarning: lbfgs failed to converge (status=1):\n",
      "STOP: TOTAL NO. of ITERATIONS REACHED LIMIT.\n",
      "\n",
      "Increase the number of iterations (max_iter) or scale the data as shown in:\n",
      "    https://scikit-learn.org/stable/modules/preprocessing.html\n",
      "Please also refer to the documentation for alternative solver options:\n",
      "    https://scikit-learn.org/stable/modules/linear_model.html#logistic-regression\n",
      "  n_iter_i = _check_optimize_result(\n",
      "C:\\Users\\Angela Chen\\anaconda3\\lib\\site-packages\\sklearn\\linear_model\\_logistic.py:814: ConvergenceWarning: lbfgs failed to converge (status=1):\n",
      "STOP: TOTAL NO. of ITERATIONS REACHED LIMIT.\n",
      "\n",
      "Increase the number of iterations (max_iter) or scale the data as shown in:\n",
      "    https://scikit-learn.org/stable/modules/preprocessing.html\n",
      "Please also refer to the documentation for alternative solver options:\n",
      "    https://scikit-learn.org/stable/modules/linear_model.html#logistic-regression\n",
      "  n_iter_i = _check_optimize_result(\n",
      "C:\\Users\\Angela Chen\\anaconda3\\lib\\site-packages\\sklearn\\linear_model\\_logistic.py:814: ConvergenceWarning: lbfgs failed to converge (status=1):\n",
      "STOP: TOTAL NO. of ITERATIONS REACHED LIMIT.\n",
      "\n",
      "Increase the number of iterations (max_iter) or scale the data as shown in:\n",
      "    https://scikit-learn.org/stable/modules/preprocessing.html\n",
      "Please also refer to the documentation for alternative solver options:\n",
      "    https://scikit-learn.org/stable/modules/linear_model.html#logistic-regression\n",
      "  n_iter_i = _check_optimize_result(\n",
      "C:\\Users\\Angela Chen\\anaconda3\\lib\\site-packages\\sklearn\\linear_model\\_logistic.py:814: ConvergenceWarning: lbfgs failed to converge (status=1):\n",
      "STOP: TOTAL NO. of ITERATIONS REACHED LIMIT.\n",
      "\n",
      "Increase the number of iterations (max_iter) or scale the data as shown in:\n",
      "    https://scikit-learn.org/stable/modules/preprocessing.html\n",
      "Please also refer to the documentation for alternative solver options:\n",
      "    https://scikit-learn.org/stable/modules/linear_model.html#logistic-regression\n",
      "  n_iter_i = _check_optimize_result(\n",
      "C:\\Users\\Angela Chen\\anaconda3\\lib\\site-packages\\sklearn\\linear_model\\_logistic.py:814: ConvergenceWarning: lbfgs failed to converge (status=1):\n",
      "STOP: TOTAL NO. of ITERATIONS REACHED LIMIT.\n",
      "\n",
      "Increase the number of iterations (max_iter) or scale the data as shown in:\n",
      "    https://scikit-learn.org/stable/modules/preprocessing.html\n",
      "Please also refer to the documentation for alternative solver options:\n",
      "    https://scikit-learn.org/stable/modules/linear_model.html#logistic-regression\n",
      "  n_iter_i = _check_optimize_result(\n",
      "C:\\Users\\Angela Chen\\anaconda3\\lib\\site-packages\\sklearn\\linear_model\\_logistic.py:814: ConvergenceWarning: lbfgs failed to converge (status=1):\n",
      "STOP: TOTAL NO. of ITERATIONS REACHED LIMIT.\n",
      "\n",
      "Increase the number of iterations (max_iter) or scale the data as shown in:\n",
      "    https://scikit-learn.org/stable/modules/preprocessing.html\n",
      "Please also refer to the documentation for alternative solver options:\n",
      "    https://scikit-learn.org/stable/modules/linear_model.html#logistic-regression\n",
      "  n_iter_i = _check_optimize_result(\n",
      "C:\\Users\\Angela Chen\\anaconda3\\lib\\site-packages\\sklearn\\linear_model\\_logistic.py:814: ConvergenceWarning: lbfgs failed to converge (status=1):\n",
      "STOP: TOTAL NO. of ITERATIONS REACHED LIMIT.\n",
      "\n",
      "Increase the number of iterations (max_iter) or scale the data as shown in:\n",
      "    https://scikit-learn.org/stable/modules/preprocessing.html\n",
      "Please also refer to the documentation for alternative solver options:\n",
      "    https://scikit-learn.org/stable/modules/linear_model.html#logistic-regression\n",
      "  n_iter_i = _check_optimize_result(\n",
      "C:\\Users\\Angela Chen\\anaconda3\\lib\\site-packages\\sklearn\\linear_model\\_logistic.py:814: ConvergenceWarning: lbfgs failed to converge (status=1):\n",
      "STOP: TOTAL NO. of ITERATIONS REACHED LIMIT.\n",
      "\n",
      "Increase the number of iterations (max_iter) or scale the data as shown in:\n",
      "    https://scikit-learn.org/stable/modules/preprocessing.html\n",
      "Please also refer to the documentation for alternative solver options:\n",
      "    https://scikit-learn.org/stable/modules/linear_model.html#logistic-regression\n",
      "  n_iter_i = _check_optimize_result(\n",
      "C:\\Users\\Angela Chen\\anaconda3\\lib\\site-packages\\sklearn\\linear_model\\_logistic.py:814: ConvergenceWarning: lbfgs failed to converge (status=1):\n",
      "STOP: TOTAL NO. of ITERATIONS REACHED LIMIT.\n",
      "\n",
      "Increase the number of iterations (max_iter) or scale the data as shown in:\n",
      "    https://scikit-learn.org/stable/modules/preprocessing.html\n",
      "Please also refer to the documentation for alternative solver options:\n",
      "    https://scikit-learn.org/stable/modules/linear_model.html#logistic-regression\n",
      "  n_iter_i = _check_optimize_result(\n",
      "C:\\Users\\Angela Chen\\anaconda3\\lib\\site-packages\\sklearn\\linear_model\\_logistic.py:814: ConvergenceWarning: lbfgs failed to converge (status=1):\n",
      "STOP: TOTAL NO. of ITERATIONS REACHED LIMIT.\n",
      "\n",
      "Increase the number of iterations (max_iter) or scale the data as shown in:\n",
      "    https://scikit-learn.org/stable/modules/preprocessing.html\n",
      "Please also refer to the documentation for alternative solver options:\n",
      "    https://scikit-learn.org/stable/modules/linear_model.html#logistic-regression\n",
      "  n_iter_i = _check_optimize_result(\n",
      "C:\\Users\\Angela Chen\\anaconda3\\lib\\site-packages\\sklearn\\linear_model\\_logistic.py:814: ConvergenceWarning: lbfgs failed to converge (status=1):\n",
      "STOP: TOTAL NO. of ITERATIONS REACHED LIMIT.\n",
      "\n",
      "Increase the number of iterations (max_iter) or scale the data as shown in:\n",
      "    https://scikit-learn.org/stable/modules/preprocessing.html\n",
      "Please also refer to the documentation for alternative solver options:\n",
      "    https://scikit-learn.org/stable/modules/linear_model.html#logistic-regression\n",
      "  n_iter_i = _check_optimize_result(\n",
      "C:\\Users\\Angela Chen\\anaconda3\\lib\\site-packages\\sklearn\\linear_model\\_logistic.py:814: ConvergenceWarning: lbfgs failed to converge (status=1):\n",
      "STOP: TOTAL NO. of ITERATIONS REACHED LIMIT.\n",
      "\n",
      "Increase the number of iterations (max_iter) or scale the data as shown in:\n",
      "    https://scikit-learn.org/stable/modules/preprocessing.html\n",
      "Please also refer to the documentation for alternative solver options:\n",
      "    https://scikit-learn.org/stable/modules/linear_model.html#logistic-regression\n",
      "  n_iter_i = _check_optimize_result(\n",
      "C:\\Users\\Angela Chen\\anaconda3\\lib\\site-packages\\sklearn\\linear_model\\_logistic.py:814: ConvergenceWarning: lbfgs failed to converge (status=1):\n",
      "STOP: TOTAL NO. of ITERATIONS REACHED LIMIT.\n",
      "\n",
      "Increase the number of iterations (max_iter) or scale the data as shown in:\n",
      "    https://scikit-learn.org/stable/modules/preprocessing.html\n",
      "Please also refer to the documentation for alternative solver options:\n",
      "    https://scikit-learn.org/stable/modules/linear_model.html#logistic-regression\n",
      "  n_iter_i = _check_optimize_result(\n",
      "C:\\Users\\Angela Chen\\anaconda3\\lib\\site-packages\\sklearn\\linear_model\\_logistic.py:814: ConvergenceWarning: lbfgs failed to converge (status=1):\n",
      "STOP: TOTAL NO. of ITERATIONS REACHED LIMIT.\n",
      "\n",
      "Increase the number of iterations (max_iter) or scale the data as shown in:\n",
      "    https://scikit-learn.org/stable/modules/preprocessing.html\n",
      "Please also refer to the documentation for alternative solver options:\n",
      "    https://scikit-learn.org/stable/modules/linear_model.html#logistic-regression\n",
      "  n_iter_i = _check_optimize_result(\n",
      "C:\\Users\\Angela Chen\\anaconda3\\lib\\site-packages\\sklearn\\linear_model\\_logistic.py:814: ConvergenceWarning: lbfgs failed to converge (status=1):\n",
      "STOP: TOTAL NO. of ITERATIONS REACHED LIMIT.\n",
      "\n",
      "Increase the number of iterations (max_iter) or scale the data as shown in:\n",
      "    https://scikit-learn.org/stable/modules/preprocessing.html\n",
      "Please also refer to the documentation for alternative solver options:\n",
      "    https://scikit-learn.org/stable/modules/linear_model.html#logistic-regression\n",
      "  n_iter_i = _check_optimize_result(\n",
      "C:\\Users\\Angela Chen\\anaconda3\\lib\\site-packages\\sklearn\\linear_model\\_logistic.py:814: ConvergenceWarning: lbfgs failed to converge (status=1):\n",
      "STOP: TOTAL NO. of ITERATIONS REACHED LIMIT.\n",
      "\n",
      "Increase the number of iterations (max_iter) or scale the data as shown in:\n",
      "    https://scikit-learn.org/stable/modules/preprocessing.html\n",
      "Please also refer to the documentation for alternative solver options:\n",
      "    https://scikit-learn.org/stable/modules/linear_model.html#logistic-regression\n",
      "  n_iter_i = _check_optimize_result(\n",
      "C:\\Users\\Angela Chen\\anaconda3\\lib\\site-packages\\sklearn\\linear_model\\_logistic.py:814: ConvergenceWarning: lbfgs failed to converge (status=1):\n",
      "STOP: TOTAL NO. of ITERATIONS REACHED LIMIT.\n",
      "\n",
      "Increase the number of iterations (max_iter) or scale the data as shown in:\n",
      "    https://scikit-learn.org/stable/modules/preprocessing.html\n",
      "Please also refer to the documentation for alternative solver options:\n",
      "    https://scikit-learn.org/stable/modules/linear_model.html#logistic-regression\n",
      "  n_iter_i = _check_optimize_result(\n",
      "C:\\Users\\Angela Chen\\anaconda3\\lib\\site-packages\\sklearn\\linear_model\\_logistic.py:814: ConvergenceWarning: lbfgs failed to converge (status=1):\n",
      "STOP: TOTAL NO. of ITERATIONS REACHED LIMIT.\n",
      "\n",
      "Increase the number of iterations (max_iter) or scale the data as shown in:\n",
      "    https://scikit-learn.org/stable/modules/preprocessing.html\n",
      "Please also refer to the documentation for alternative solver options:\n",
      "    https://scikit-learn.org/stable/modules/linear_model.html#logistic-regression\n",
      "  n_iter_i = _check_optimize_result(\n",
      "C:\\Users\\Angela Chen\\anaconda3\\lib\\site-packages\\sklearn\\linear_model\\_logistic.py:814: ConvergenceWarning: lbfgs failed to converge (status=1):\n",
      "STOP: TOTAL NO. of ITERATIONS REACHED LIMIT.\n",
      "\n",
      "Increase the number of iterations (max_iter) or scale the data as shown in:\n",
      "    https://scikit-learn.org/stable/modules/preprocessing.html\n",
      "Please also refer to the documentation for alternative solver options:\n",
      "    https://scikit-learn.org/stable/modules/linear_model.html#logistic-regression\n",
      "  n_iter_i = _check_optimize_result(\n",
      "C:\\Users\\Angela Chen\\anaconda3\\lib\\site-packages\\sklearn\\linear_model\\_logistic.py:814: ConvergenceWarning: lbfgs failed to converge (status=1):\n",
      "STOP: TOTAL NO. of ITERATIONS REACHED LIMIT.\n",
      "\n",
      "Increase the number of iterations (max_iter) or scale the data as shown in:\n",
      "    https://scikit-learn.org/stable/modules/preprocessing.html\n",
      "Please also refer to the documentation for alternative solver options:\n",
      "    https://scikit-learn.org/stable/modules/linear_model.html#logistic-regression\n",
      "  n_iter_i = _check_optimize_result(\n",
      "C:\\Users\\Angela Chen\\anaconda3\\lib\\site-packages\\sklearn\\linear_model\\_logistic.py:814: ConvergenceWarning: lbfgs failed to converge (status=1):\n",
      "STOP: TOTAL NO. of ITERATIONS REACHED LIMIT.\n",
      "\n",
      "Increase the number of iterations (max_iter) or scale the data as shown in:\n",
      "    https://scikit-learn.org/stable/modules/preprocessing.html\n",
      "Please also refer to the documentation for alternative solver options:\n",
      "    https://scikit-learn.org/stable/modules/linear_model.html#logistic-regression\n",
      "  n_iter_i = _check_optimize_result(\n",
      "C:\\Users\\Angela Chen\\anaconda3\\lib\\site-packages\\sklearn\\linear_model\\_logistic.py:814: ConvergenceWarning: lbfgs failed to converge (status=1):\n",
      "STOP: TOTAL NO. of ITERATIONS REACHED LIMIT.\n",
      "\n",
      "Increase the number of iterations (max_iter) or scale the data as shown in:\n",
      "    https://scikit-learn.org/stable/modules/preprocessing.html\n",
      "Please also refer to the documentation for alternative solver options:\n",
      "    https://scikit-learn.org/stable/modules/linear_model.html#logistic-regression\n",
      "  n_iter_i = _check_optimize_result(\n",
      "C:\\Users\\Angela Chen\\anaconda3\\lib\\site-packages\\sklearn\\linear_model\\_logistic.py:814: ConvergenceWarning: lbfgs failed to converge (status=1):\n",
      "STOP: TOTAL NO. of ITERATIONS REACHED LIMIT.\n",
      "\n",
      "Increase the number of iterations (max_iter) or scale the data as shown in:\n",
      "    https://scikit-learn.org/stable/modules/preprocessing.html\n",
      "Please also refer to the documentation for alternative solver options:\n",
      "    https://scikit-learn.org/stable/modules/linear_model.html#logistic-regression\n",
      "  n_iter_i = _check_optimize_result(\n",
      "C:\\Users\\Angela Chen\\anaconda3\\lib\\site-packages\\sklearn\\linear_model\\_logistic.py:814: ConvergenceWarning: lbfgs failed to converge (status=1):\n",
      "STOP: TOTAL NO. of ITERATIONS REACHED LIMIT.\n",
      "\n",
      "Increase the number of iterations (max_iter) or scale the data as shown in:\n",
      "    https://scikit-learn.org/stable/modules/preprocessing.html\n",
      "Please also refer to the documentation for alternative solver options:\n",
      "    https://scikit-learn.org/stable/modules/linear_model.html#logistic-regression\n",
      "  n_iter_i = _check_optimize_result(\n",
      "C:\\Users\\Angela Chen\\anaconda3\\lib\\site-packages\\sklearn\\linear_model\\_logistic.py:814: ConvergenceWarning: lbfgs failed to converge (status=1):\n",
      "STOP: TOTAL NO. of ITERATIONS REACHED LIMIT.\n",
      "\n",
      "Increase the number of iterations (max_iter) or scale the data as shown in:\n",
      "    https://scikit-learn.org/stable/modules/preprocessing.html\n",
      "Please also refer to the documentation for alternative solver options:\n",
      "    https://scikit-learn.org/stable/modules/linear_model.html#logistic-regression\n",
      "  n_iter_i = _check_optimize_result(\n",
      "C:\\Users\\Angela Chen\\anaconda3\\lib\\site-packages\\sklearn\\linear_model\\_logistic.py:814: ConvergenceWarning: lbfgs failed to converge (status=1):\n",
      "STOP: TOTAL NO. of ITERATIONS REACHED LIMIT.\n",
      "\n",
      "Increase the number of iterations (max_iter) or scale the data as shown in:\n",
      "    https://scikit-learn.org/stable/modules/preprocessing.html\n",
      "Please also refer to the documentation for alternative solver options:\n",
      "    https://scikit-learn.org/stable/modules/linear_model.html#logistic-regression\n",
      "  n_iter_i = _check_optimize_result(\n",
      "C:\\Users\\Angela Chen\\anaconda3\\lib\\site-packages\\sklearn\\linear_model\\_logistic.py:814: ConvergenceWarning: lbfgs failed to converge (status=1):\n",
      "STOP: TOTAL NO. of ITERATIONS REACHED LIMIT.\n",
      "\n",
      "Increase the number of iterations (max_iter) or scale the data as shown in:\n",
      "    https://scikit-learn.org/stable/modules/preprocessing.html\n",
      "Please also refer to the documentation for alternative solver options:\n",
      "    https://scikit-learn.org/stable/modules/linear_model.html#logistic-regression\n",
      "  n_iter_i = _check_optimize_result(\n",
      "C:\\Users\\Angela Chen\\anaconda3\\lib\\site-packages\\sklearn\\linear_model\\_logistic.py:814: ConvergenceWarning: lbfgs failed to converge (status=1):\n",
      "STOP: TOTAL NO. of ITERATIONS REACHED LIMIT.\n",
      "\n",
      "Increase the number of iterations (max_iter) or scale the data as shown in:\n",
      "    https://scikit-learn.org/stable/modules/preprocessing.html\n",
      "Please also refer to the documentation for alternative solver options:\n",
      "    https://scikit-learn.org/stable/modules/linear_model.html#logistic-regression\n",
      "  n_iter_i = _check_optimize_result(\n",
      "C:\\Users\\Angela Chen\\anaconda3\\lib\\site-packages\\sklearn\\linear_model\\_logistic.py:814: ConvergenceWarning: lbfgs failed to converge (status=1):\n",
      "STOP: TOTAL NO. of ITERATIONS REACHED LIMIT.\n",
      "\n",
      "Increase the number of iterations (max_iter) or scale the data as shown in:\n",
      "    https://scikit-learn.org/stable/modules/preprocessing.html\n",
      "Please also refer to the documentation for alternative solver options:\n",
      "    https://scikit-learn.org/stable/modules/linear_model.html#logistic-regression\n",
      "  n_iter_i = _check_optimize_result(\n",
      "C:\\Users\\Angela Chen\\anaconda3\\lib\\site-packages\\sklearn\\linear_model\\_logistic.py:814: ConvergenceWarning: lbfgs failed to converge (status=1):\n",
      "STOP: TOTAL NO. of ITERATIONS REACHED LIMIT.\n",
      "\n",
      "Increase the number of iterations (max_iter) or scale the data as shown in:\n",
      "    https://scikit-learn.org/stable/modules/preprocessing.html\n",
      "Please also refer to the documentation for alternative solver options:\n",
      "    https://scikit-learn.org/stable/modules/linear_model.html#logistic-regression\n",
      "  n_iter_i = _check_optimize_result(\n",
      "C:\\Users\\Angela Chen\\anaconda3\\lib\\site-packages\\sklearn\\linear_model\\_logistic.py:814: ConvergenceWarning: lbfgs failed to converge (status=1):\n",
      "STOP: TOTAL NO. of ITERATIONS REACHED LIMIT.\n",
      "\n",
      "Increase the number of iterations (max_iter) or scale the data as shown in:\n",
      "    https://scikit-learn.org/stable/modules/preprocessing.html\n",
      "Please also refer to the documentation for alternative solver options:\n",
      "    https://scikit-learn.org/stable/modules/linear_model.html#logistic-regression\n",
      "  n_iter_i = _check_optimize_result(\n",
      "C:\\Users\\Angela Chen\\anaconda3\\lib\\site-packages\\sklearn\\linear_model\\_logistic.py:814: ConvergenceWarning: lbfgs failed to converge (status=1):\n",
      "STOP: TOTAL NO. of ITERATIONS REACHED LIMIT.\n",
      "\n",
      "Increase the number of iterations (max_iter) or scale the data as shown in:\n",
      "    https://scikit-learn.org/stable/modules/preprocessing.html\n",
      "Please also refer to the documentation for alternative solver options:\n",
      "    https://scikit-learn.org/stable/modules/linear_model.html#logistic-regression\n",
      "  n_iter_i = _check_optimize_result(\n",
      "C:\\Users\\Angela Chen\\anaconda3\\lib\\site-packages\\sklearn\\linear_model\\_logistic.py:814: ConvergenceWarning: lbfgs failed to converge (status=1):\n",
      "STOP: TOTAL NO. of ITERATIONS REACHED LIMIT.\n",
      "\n",
      "Increase the number of iterations (max_iter) or scale the data as shown in:\n",
      "    https://scikit-learn.org/stable/modules/preprocessing.html\n",
      "Please also refer to the documentation for alternative solver options:\n",
      "    https://scikit-learn.org/stable/modules/linear_model.html#logistic-regression\n",
      "  n_iter_i = _check_optimize_result(\n",
      "C:\\Users\\Angela Chen\\anaconda3\\lib\\site-packages\\sklearn\\linear_model\\_logistic.py:814: ConvergenceWarning: lbfgs failed to converge (status=1):\n",
      "STOP: TOTAL NO. of ITERATIONS REACHED LIMIT.\n",
      "\n",
      "Increase the number of iterations (max_iter) or scale the data as shown in:\n",
      "    https://scikit-learn.org/stable/modules/preprocessing.html\n",
      "Please also refer to the documentation for alternative solver options:\n",
      "    https://scikit-learn.org/stable/modules/linear_model.html#logistic-regression\n",
      "  n_iter_i = _check_optimize_result(\n",
      "C:\\Users\\Angela Chen\\anaconda3\\lib\\site-packages\\sklearn\\linear_model\\_logistic.py:814: ConvergenceWarning: lbfgs failed to converge (status=1):\n",
      "STOP: TOTAL NO. of ITERATIONS REACHED LIMIT.\n",
      "\n",
      "Increase the number of iterations (max_iter) or scale the data as shown in:\n",
      "    https://scikit-learn.org/stable/modules/preprocessing.html\n",
      "Please also refer to the documentation for alternative solver options:\n",
      "    https://scikit-learn.org/stable/modules/linear_model.html#logistic-regression\n",
      "  n_iter_i = _check_optimize_result(\n",
      "C:\\Users\\Angela Chen\\anaconda3\\lib\\site-packages\\sklearn\\linear_model\\_logistic.py:814: ConvergenceWarning: lbfgs failed to converge (status=1):\n",
      "STOP: TOTAL NO. of ITERATIONS REACHED LIMIT.\n",
      "\n",
      "Increase the number of iterations (max_iter) or scale the data as shown in:\n",
      "    https://scikit-learn.org/stable/modules/preprocessing.html\n",
      "Please also refer to the documentation for alternative solver options:\n",
      "    https://scikit-learn.org/stable/modules/linear_model.html#logistic-regression\n",
      "  n_iter_i = _check_optimize_result(\n"
     ]
    },
    {
     "name": "stdout",
     "output_type": "stream",
     "text": [
      "The score for test is 0.7835057759919637\n"
     ]
    },
    {
     "name": "stderr",
     "output_type": "stream",
     "text": [
      "C:\\Users\\Angela Chen\\anaconda3\\lib\\site-packages\\sklearn\\linear_model\\_logistic.py:814: ConvergenceWarning: lbfgs failed to converge (status=1):\n",
      "STOP: TOTAL NO. of ITERATIONS REACHED LIMIT.\n",
      "\n",
      "Increase the number of iterations (max_iter) or scale the data as shown in:\n",
      "    https://scikit-learn.org/stable/modules/preprocessing.html\n",
      "Please also refer to the documentation for alternative solver options:\n",
      "    https://scikit-learn.org/stable/modules/linear_model.html#logistic-regression\n",
      "  n_iter_i = _check_optimize_result(\n",
      "C:\\Users\\Angela Chen\\anaconda3\\lib\\site-packages\\sklearn\\linear_model\\_logistic.py:814: ConvergenceWarning: lbfgs failed to converge (status=1):\n",
      "STOP: TOTAL NO. of ITERATIONS REACHED LIMIT.\n",
      "\n",
      "Increase the number of iterations (max_iter) or scale the data as shown in:\n",
      "    https://scikit-learn.org/stable/modules/preprocessing.html\n",
      "Please also refer to the documentation for alternative solver options:\n",
      "    https://scikit-learn.org/stable/modules/linear_model.html#logistic-regression\n",
      "  n_iter_i = _check_optimize_result(\n",
      "C:\\Users\\Angela Chen\\anaconda3\\lib\\site-packages\\sklearn\\linear_model\\_logistic.py:814: ConvergenceWarning: lbfgs failed to converge (status=1):\n",
      "STOP: TOTAL NO. of ITERATIONS REACHED LIMIT.\n",
      "\n",
      "Increase the number of iterations (max_iter) or scale the data as shown in:\n",
      "    https://scikit-learn.org/stable/modules/preprocessing.html\n",
      "Please also refer to the documentation for alternative solver options:\n",
      "    https://scikit-learn.org/stable/modules/linear_model.html#logistic-regression\n",
      "  n_iter_i = _check_optimize_result(\n"
     ]
    },
    {
     "data": {
      "text/plain": [
       "{LogisticRegression(penalty='none'): (0.7873744139316812, 0.7835057759919637)}"
      ]
     },
     "execution_count": 36,
     "metadata": {},
     "output_type": "execute_result"
    }
   ],
   "source": [
    "#Logistic regression\n",
    "lr = LogisticRegression(penalty=\"none\",solver=\"lbfgs\")\n",
    "lr.fit(X,y)\n",
    "yhat = lr.predict(X)\n",
    "cmat = confusion_matrix(y, yhat)\n",
    "print(f'The confusion matrix is {cmat}')\n",
    "getBestScore(lr, 0.25, 50)"
   ]
  },
  {
   "cell_type": "code",
   "execution_count": 38,
   "metadata": {},
   "outputs": [
    {
     "name": "stdout",
     "output_type": "stream",
     "text": [
      "The best ridge parameter is {'ridge__alpha': 0.1}.\n",
      "The confusion matrix is [[3919    0]\n",
      " [2273 1771]]\n",
      "The score for test is 0.7129884480160723\n"
     ]
    },
    {
     "data": {
      "text/plain": [
       "{LogisticRegression(penalty='none'): (0.7873744139316812, 0.7835057759919637),\n",
       " Pipeline(steps=[('ridge', RidgeClassifier(alpha=0.1))]): (0.7150234427327526,\n",
       "  0.7129884480160723)}"
      ]
     },
     "execution_count": 38,
     "metadata": {},
     "output_type": "execute_result"
    }
   ],
   "source": [
    "#Ridge with grid search\n",
    "fullModel = Pipeline([(\"ridge\", RidgeClassifier())])\n",
    "# set up dictionary for grid search\n",
    "param_grid={'ridge__alpha':[0.1, 0.25, 0.5, 1., 2., 5., 10.,25.,50.,100.,150.,200.]}\n",
    "# set up cross-validation shuffles\n",
    "shuffle_split = ShuffleSplit(n_splits = 50, test_size=0.25)\n",
    "grid_search=GridSearchCV(fullModel,param_grid,cv=shuffle_split,\n",
    "                              return_train_score=True,n_jobs=-1)\n",
    "grid_search.fit(X,y)\n",
    "print(f'The best ridge parameter is {grid_search.best_params_}.')\n",
    "best_model = grid_search.best_estimator_\n",
    "yhat = grid_search.predict(X)\n",
    "cmat = confusion_matrix(y, yhat)\n",
    "print(f'The confusion matrix is {cmat}')\n",
    "getBestScore(best_model, 0.25, 50)"
   ]
  },
  {
   "cell_type": "code",
   "execution_count": 39,
   "metadata": {},
   "outputs": [
    {
     "name": "stdout",
     "output_type": "stream",
     "text": [
      "The best ridge parameter is {'lasso__alpha': 0.1}.\n",
      "The score for test is 0.1164987414750741\n"
     ]
    },
    {
     "data": {
      "text/plain": [
       "{LogisticRegression(penalty='none'): (0.7873744139316812, 0.7835057759919637),\n",
       " Pipeline(steps=[('ridge', RidgeClassifier(alpha=0.1))]): (0.7150234427327526,\n",
       "  0.7129884480160723),\n",
       " Pipeline(steps=[('lasso', Lasso(alpha=0.1))]): (0.11575970443952267,\n",
       "  0.1164987414750741)}"
      ]
     },
     "execution_count": 39,
     "metadata": {},
     "output_type": "execute_result"
    }
   ],
   "source": [
    "#lasso\n",
    "fullModel = Pipeline([(\"lasso\", Lasso())])\n",
    "param_grid={'lasso__alpha':[0.1, 0.25, 0.5, 1., 2., 5., 10.,25.,50.,100.,150.,200.]}\n",
    "shuffle_split = ShuffleSplit(n_splits = 50, test_size=0.25)\n",
    "grid_search=GridSearchCV(fullModel,param_grid,cv=shuffle_split,return_train_score=True,n_jobs=-1)\n",
    "grid_search.fit(X,y)\n",
    "print(f'The best ridge parameter is {grid_search.best_params_}.')\n",
    "best_model = grid_search.best_estimator_\n",
    "getBestScore(best_model, 0.25, 50)"
   ]
  },
  {
   "cell_type": "code",
   "execution_count": 41,
   "metadata": {},
   "outputs": [
    {
     "name": "stdout",
     "output_type": "stream",
     "text": [
      "The confusion matrix is [[3452  467]\n",
      " [ 665 3379]]\n",
      "The score for test is 0.8272626820693121\n"
     ]
    },
    {
     "data": {
      "text/plain": [
       "{LogisticRegression(penalty='none'): (0.7873744139316812, 0.7835057759919637),\n",
       " Pipeline(steps=[('ridge', RidgeClassifier(alpha=0.1))]): (0.7150234427327526,\n",
       "  0.7129884480160723),\n",
       " Pipeline(steps=[('lasso', Lasso(alpha=0.1))]): (0.11575970443952267,\n",
       "  0.1164987414750741),\n",
       " DecisionTreeClassifier(max_depth=10): (0.8584628265237777,\n",
       "  0.8272626820693121)}"
      ]
     },
     "execution_count": 41,
     "metadata": {},
     "output_type": "execute_result"
    }
   ],
   "source": [
    "#Use grid search to decide the depth of Decision tree\n",
    "depthlist = [1,2,3,4,5,6,7,8,9,10]\n",
    "dtr = DecisionTreeClassifier()\n",
    "param_grid={'max_depth':depthlist}\n",
    "cvf = ShuffleSplit(test_size=0.25,n_splits=50)\n",
    "grid_search=GridSearchCV(dtr,param_grid,cv=cvf,return_train_score=True,n_jobs=-1)\n",
    "grid_search.fit(X,y)\n",
    "yhat = grid_search.predict(X)\n",
    "cmat = confusion_matrix(y, yhat)\n",
    "print(f'The confusion matrix is {cmat}')\n",
    "best_model = grid_search.best_estimator_\n",
    "getBestScore(best_model, 0.25, 50)"
   ]
  },
  {
   "cell_type": "code",
   "execution_count": 42,
   "metadata": {},
   "outputs": [
    {
     "name": "stdout",
     "output_type": "stream",
     "text": [
      "The confusion matrix is [[3610  309]\n",
      " [ 658 3386]]\n",
      "The score for test is 0.8482772476142643\n"
     ]
    },
    {
     "data": {
      "text/plain": [
       "{LogisticRegression(penalty='none'): (0.7873744139316812, 0.7835057759919637),\n",
       " Pipeline(steps=[('ridge', RidgeClassifier(alpha=0.1))]): (0.7150234427327526,\n",
       "  0.7129884480160723),\n",
       " Pipeline(steps=[('lasso', Lasso(alpha=0.1))]): (0.11575970443952267,\n",
       "  0.1164987414750741),\n",
       " DecisionTreeClassifier(max_depth=10): (0.8584628265237777,\n",
       "  0.8272626820693121),\n",
       " RandomForestClassifier(max_depth=10, max_features=4): (0.8776959142665774,\n",
       "  0.8482772476142643)}"
      ]
     },
     "execution_count": 42,
     "metadata": {},
     "output_type": "execute_result"
    }
   ],
   "source": [
    "depthlist = [1,2,3,4,5,6,7,8,9,10]\n",
    "forest = RandomForestClassifier()\n",
    "param_grid={'max_depth':depthlist,'n_estimators':[20,40,60,80,100],'max_features': [1,2,3,4]}\n",
    "cvf = ShuffleSplit(test_size=0.25,n_splits=50)\n",
    "grid_search=GridSearchCV(forest,param_grid,cv=cvf,return_train_score=True,n_jobs=-1)\n",
    "grid_search.fit(X,y)\n",
    "yhat = grid_search.predict(X)\n",
    "cmat = confusion_matrix(y, yhat)\n",
    "print(f'The confusion matrix is {cmat}')\n",
    "best_model = grid_search.best_estimator_\n",
    "getBestScore(best_model, 0.25, 50)"
   ]
  },
  {
   "cell_type": "code",
   "execution_count": 43,
   "metadata": {},
   "outputs": [
    {
     "name": "stdout",
     "output_type": "stream",
     "text": [
      "The confusion matrix is [[3680  239]\n",
      " [1537 2507]]\n",
      "The score for test is 0.7764942240080361\n"
     ]
    },
    {
     "data": {
      "text/plain": [
       "{LogisticRegression(penalty='none'): (0.7873744139316812, 0.7835057759919637),\n",
       " Pipeline(steps=[('ridge', RidgeClassifier(alpha=0.1))]): (0.7150234427327526,\n",
       "  0.7129884480160723),\n",
       " Pipeline(steps=[('lasso', Lasso(alpha=0.1))]): (0.11575970443952267,\n",
       "  0.1164987414750741),\n",
       " DecisionTreeClassifier(max_depth=10): (0.8584628265237777,\n",
       "  0.8272626820693121),\n",
       " RandomForestClassifier(max_depth=10, max_features=4): (0.8776959142665774,\n",
       "  0.8482772476142643),\n",
       " SVC(kernel='linear'): (0.7772572002679169, 0.7764942240080361)}"
      ]
     },
     "execution_count": 43,
     "metadata": {},
     "output_type": "execute_result"
    }
   ],
   "source": [
    "# Linear svm\n",
    "lsv = SVC(kernel=\"linear\",C=1.)\n",
    "lsv.fit(X,y)\n",
    "yhat = lsv.predict(X)\n",
    "cmat = confusion_matrix(y, yhat)\n",
    "print(f'The confusion matrix is {cmat}')\n",
    "getBestScore(lsv, 0.25, 50)"
   ]
  },
  {
   "cell_type": "code",
   "execution_count": 44,
   "metadata": {},
   "outputs": [
    {
     "name": "stdout",
     "output_type": "stream",
     "text": [
      "Ranking of compute time:  [(RandomForestClassifier(max_depth=10, max_features=4), (0.8776959142665774, 0.8482772476142643)), (DecisionTreeClassifier(max_depth=10), (0.8584628265237777, 0.8272626820693121)), (LogisticRegression(penalty='none'), (0.7873744139316812, 0.7835057759919637)), (SVC(kernel='linear'), (0.7772572002679169, 0.7764942240080361)), (Pipeline(steps=[('ridge', RidgeClassifier(alpha=0.1))]), (0.7150234427327526, 0.7129884480160723)), (Pipeline(steps=[('lasso', Lasso(alpha=0.1))]), (0.11575970443952267, 0.1164987414750741))]\n",
      "\n",
      "\n",
      "Best model is (RandomForestClassifier(max_depth=10, max_features=4), (0.8776959142665774, 0.8482772476142643))\n"
     ]
    }
   ],
   "source": [
    "best_model_all = sorted(model_score.items(),key = lambda x:x[1],reverse = True)[0]\n",
    "print(\"Ranking of compute time: \",sorted(model_score.items(),key = lambda x:x[1],reverse = True))\n",
    "print(\"\\n\")\n",
    "print(f'Best model is {best_model_all}')"
   ]
  },
  {
   "cell_type": "markdown",
   "metadata": {},
   "source": [
    "### New dataset is generated for validation to see whether the model I selected is consistent with a good score all the time"
   ]
  },
  {
   "cell_type": "code",
   "execution_count": 45,
   "metadata": {},
   "outputs": [],
   "source": [
    "sampler = SMOTEN()\n",
    "Xnew, ynew = sampler.fit_resample(X, y)"
   ]
  },
  {
   "cell_type": "code",
   "execution_count": 46,
   "metadata": {},
   "outputs": [
    {
     "name": "stdout",
     "output_type": "stream",
     "text": [
      "The average training score for new dataset is 0.8763732278272337\n",
      "The average test score for new dataset is 0.8490306627101879\n"
     ]
    }
   ],
   "source": [
    "model = best_model_all[0]\n",
    "\n",
    "shuffle = ShuffleSplit(n_splits=50, test_size=0.25)\n",
    "CVInfo = cross_validate(model, Xnew, ynew, cv=shuffle, return_train_score=True)\n",
    "trainscore = (np.mean(CVInfo['train_score']))\n",
    "testscore = (np.mean(CVInfo['test_score']))\n",
    "print(f'The average training score for new dataset is {trainscore}')\n",
    "print(f'The average test score for new dataset is {testscore}')"
   ]
  },
  {
   "cell_type": "code",
   "execution_count": null,
   "metadata": {},
   "outputs": [],
   "source": []
  },
  {
   "cell_type": "code",
   "execution_count": null,
   "metadata": {},
   "outputs": [],
   "source": []
  }
 ],
 "metadata": {
  "kernelspec": {
   "display_name": "Python 3",
   "language": "python",
   "name": "python3"
  },
  "language_info": {
   "codemirror_mode": {
    "name": "ipython",
    "version": 3
   },
   "file_extension": ".py",
   "mimetype": "text/x-python",
   "name": "python",
   "nbconvert_exporter": "python",
   "pygments_lexer": "ipython3",
   "version": "3.8.5"
  }
 },
 "nbformat": 4,
 "nbformat_minor": 4
}
